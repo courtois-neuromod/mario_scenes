{
 "cells": [
  {
   "cell_type": "code",
   "execution_count": 1,
   "metadata": {},
   "outputs": [],
   "source": [
    "import os\n",
    "import pandas as pd\n",
    "\n",
    "\n",
    "scenes_file = '../resources/scenes_mastersheet.csv'"
   ]
  },
  {
   "cell_type": "code",
   "execution_count": 2,
   "metadata": {},
   "outputs": [
    {
     "data": {
      "text/plain": [
       "Index(['World', 'Level', 'Scene', 'x Hi (entry)', 'x Lo (entry)',\n",
       "       'x Hi (exit)', 'x Lo (exit)', 'Entry point', 'Exit point', 'Layout',\n",
       "       'Enemy', '2-Horde', '3-Horde', '4-Horde', 'Roof', 'Gap',\n",
       "       'Multiple gaps', 'Variable gaps', 'Gap enemy', 'Pillar gap', 'Valley',\n",
       "       'Pipe valley', 'Empty valley', 'Enemy valley', 'Roof valley', '2-Path',\n",
       "       '3-Path', 'Risk/Reward', 'Stair up', 'Stair down', 'Empty stair valley',\n",
       "       'Enemy stair valley', 'Gap stair valley', 'Reward', 'Moving platform',\n",
       "       'Flagpole', 'Beginning', 'Bonus zone', 'Legend : ', 'XXXX = checkpoint',\n",
       "       'Added patterns'],\n",
       "      dtype='object')"
      ]
     },
     "execution_count": 2,
     "metadata": {},
     "output_type": "execute_result"
    }
   ],
   "source": [
    "scenes_df = pd.read_csv(scenes_file)\n",
    "scenes_df.columns"
   ]
  },
  {
   "cell_type": "code",
   "execution_count": 3,
   "metadata": {},
   "outputs": [],
   "source": [
    "\n",
    "def curate_dataframe(df):\n",
    "    # Create the 'scene_ID' column\n",
    "    df['scene_ID'] = df.apply(\n",
    "        lambda row: f\"w{row['World']}l{row['Level']}s{row['Scene']}\",\n",
    "        axis=1\n",
    "    )\n",
    "    \n",
    "    # List of feature columns you want to keep\n",
    "    feature_cols = [\n",
    "        'Enemy', '2-Horde', '3-Horde', '4-Horde', 'Roof', 'Gap',\n",
    "        'Multiple gaps', 'Variable gaps', 'Gap enemy', 'Pillar gap', 'Valley',\n",
    "        'Pipe valley', 'Empty valley', 'Enemy valley', 'Roof valley', '2-Path',\n",
    "        '3-Path', 'Risk/Reward', 'Stair up', 'Stair down', 'Empty stair valley',\n",
    "        'Enemy stair valley', 'Gap stair valley', 'Reward', 'Moving platform',\n",
    "        'Flagpole', 'Beginning', 'Bonus zone'\n",
    "    ]\n",
    "    \n",
    "    # Select columns to keep in the curated DataFrame\n",
    "    curated_df = df[\n",
    "        ['scene_ID', 'World', 'Level', 'Scene'] + feature_cols\n",
    "    ].copy()\n",
    "    \n",
    "    return curated_df\n",
    "\n",
    "curated_df = curate_dataframe(scenes_df)\n",
    "curated_df\n",
    "\n",
    "df_features = curated_df.drop(columns=['scene_ID', 'World', 'Level', 'Scene'])"
   ]
  },
  {
   "cell_type": "code",
   "execution_count": 4,
   "metadata": {},
   "outputs": [
    {
     "name": "stderr",
     "output_type": "stream",
     "text": [
      "/home/hyruuk/mambaforge/envs/mario_env/lib/python3.10/site-packages/tqdm/auto.py:21: TqdmWarning: IProgress not found. Please update jupyter and ipywidgets. See https://ipywidgets.readthedocs.io/en/stable/user_install.html\n",
      "  from .autonotebook import tqdm as notebook_tqdm\n"
     ]
    }
   ],
   "source": [
    "# Dimensionality reduction\n",
    "import pandas as pd\n",
    "from sklearn.decomposition import PCA\n",
    "from sklearn.manifold import TSNE\n",
    "\n",
    "import umap.umap_ as umap\n",
    "\n",
    "def dimensionality_reduction(\n",
    "    df_features,\n",
    "    method=\"pca\",\n",
    "    n_components=2,\n",
    "    random_state=42,\n",
    "    dr_params=None\n",
    "):\n",
    "    \"\"\"\n",
    "    Apply a dimensionality reduction technique to the given feature DataFrame.\n",
    "\n",
    "    Parameters\n",
    "    ----------\n",
    "    df_features : pd.DataFrame\n",
    "        A DataFrame containing only the feature columns (no IDs or labels).\n",
    "        All features should be numeric (or pre-encoded as numeric).\n",
    "\n",
    "    method : str, optional\n",
    "        The dimensionality reduction method to use. Options:\n",
    "          - \"none\" : return the original data without changes\n",
    "          - \"pca\"  : Principal Component Analysis\n",
    "          - \"umap\" : Uniform Manifold Approximation and Projection\n",
    "          - \"tsne\" : t-distributed Stochastic Neighbor Embedding\n",
    "        Default is \"pca\".\n",
    "\n",
    "    n_components : int, optional\n",
    "        Number of components (dimensions) to project down to.\n",
    "        Typically 2 or 3 if you're plotting. Default is 2.\n",
    "\n",
    "    random_state : int, optional\n",
    "        Random seed for reproducibility in methods that support it\n",
    "        (PCA, UMAP, t-SNE). Default is 42.\n",
    "\n",
    "    dr_params : dict, optional\n",
    "        A dictionary of additional parameters for the DR method.\n",
    "        Examples:\n",
    "          - For PCA:  {\"svd_solver\": \"full\"}\n",
    "          - For UMAP: {\"n_neighbors\": 15, \"min_dist\": 0.1}\n",
    "          - For t-SNE: {\"perplexity\": 30, \"learning_rate\": 200}\n",
    "        Default is None (no extra parameters).\n",
    "\n",
    "    Returns\n",
    "    -------\n",
    "    pd.DataFrame\n",
    "        A new DataFrame with the transformed features, whose columns are named\n",
    "        DR_1, DR_2, ..., DR_{n_components}.\n",
    "        If method=\"none\", returns a copy of df_features.\n",
    "    \"\"\"\n",
    "    if dr_params is None:\n",
    "        dr_params = {}\n",
    "\n",
    "    method = method.lower()\n",
    "\n",
    "    # If no DR is needed, just return the original data.\n",
    "    if method == \"none\":\n",
    "        return df_features.copy()\n",
    "\n",
    "    X = df_features.values  # Convert DF to numpy array\n",
    "\n",
    "    if method == \"pca\":\n",
    "        reducer = PCA(n_components=n_components, random_state=random_state, **dr_params)\n",
    "        embedding = reducer.fit_transform(X)\n",
    "\n",
    "    elif method == \"umap\":\n",
    "        reducer = umap.UMAP(n_components=n_components, random_state=random_state, **dr_params)\n",
    "        embedding = reducer.fit_transform(X)\n",
    "\n",
    "    elif method == \"tsne\":\n",
    "        reducer = TSNE(n_components=n_components, random_state=random_state, **dr_params)\n",
    "        embedding = reducer.fit_transform(X)\n",
    "\n",
    "    else:\n",
    "        raise ValueError(\"method must be one of ['none', 'pca', 'umap', 'tsne'].\")\n",
    "\n",
    "    # Build a new DataFrame of the results\n",
    "    dr_columns = [f\"DR_{i+1}\" for i in range(n_components)]\n",
    "    df_reduced = pd.DataFrame(embedding, columns=dr_columns, index=df_features.index)\n",
    "\n",
    "    return df_reduced\n"
   ]
  },
  {
   "cell_type": "code",
   "execution_count": 5,
   "metadata": {},
   "outputs": [
    {
     "name": "stdout",
     "output_type": "stream",
     "text": [
      "       DR_1      DR_2\n",
      "0 -0.339596 -0.246100\n",
      "1  0.381437  0.603183\n",
      "2 -0.351999 -0.124654\n",
      "3  0.277867  0.038365\n",
      "4 -0.545734  0.438426\n"
     ]
    },
    {
     "name": "stderr",
     "output_type": "stream",
     "text": [
      "/home/hyruuk/mambaforge/envs/mario_env/lib/python3.10/site-packages/umap/umap_.py:1952: UserWarning: n_jobs value 1 overridden to 1 by setting random_state. Use no seed for parallelism.\n",
      "  warn(\n"
     ]
    },
    {
     "name": "stdout",
     "output_type": "stream",
     "text": [
      "        DR_1       DR_2\n",
      "0  33.720116 -34.881977\n",
      "1  32.133862 -33.344692\n",
      "2  32.238438 -30.521679\n",
      "3  32.921875 -33.703979\n",
      "4  31.672804 -30.393167\n",
      "       DR_1      DR_2\n",
      "0 -2.528442 -3.821689\n",
      "1  6.720411  5.306932\n",
      "2 -8.886157 -7.270678\n",
      "3  1.139122  6.946015\n",
      "4 -4.916055 -7.888424\n",
      "   Enemy  2-Horde  3-Horde  4-Horde  Roof  Gap  Multiple gaps  Variable gaps  \\\n",
      "0      0        0        0        0     0    0              0              0   \n",
      "1      1        0        0        0     0    0              0              0   \n",
      "2      0        0        0        0     0    0              0              0   \n",
      "3      1        0        0        0     0    0              0              0   \n",
      "4      0        1        0        0     0    0              0              0   \n",
      "\n",
      "   Gap enemy  Pillar gap  ...  Stair up  Stair down  Empty stair valley  \\\n",
      "0          0           0  ...         0           0                   0   \n",
      "1          0           0  ...         0           0                   0   \n",
      "2          0           0  ...         0           0                   0   \n",
      "3          0           0  ...         0           0                   0   \n",
      "4          0           0  ...         0           0                   0   \n",
      "\n",
      "   Enemy stair valley  Gap stair valley  Reward  Moving platform  Flagpole  \\\n",
      "0                   0                 0       0                0         0   \n",
      "1                   0                 0       0                0         0   \n",
      "2                   0                 0       0                0         0   \n",
      "3                   0                 0       0                0         0   \n",
      "4                   0                 0       0                0         0   \n",
      "\n",
      "   Beginning  Bonus zone  \n",
      "0          1           0  \n",
      "1          0           0  \n",
      "2          0           0  \n",
      "3          0           0  \n",
      "4          0           0  \n",
      "\n",
      "[5 rows x 28 columns]\n"
     ]
    }
   ],
   "source": [
    "# Suppose you have a DataFrame \"df_features\" with numerical columns like:\n",
    "# ['Enemy', 'Gap', 'Roof', 'Valley', ...] etc.\n",
    "\n",
    "# 1) PCA Example\n",
    "df_pca = dimensionality_reduction(\n",
    "    df_features,\n",
    "    method=\"pca\",\n",
    "    n_components=2,\n",
    "    random_state=42,\n",
    "    dr_params={\"svd_solver\": \"full\"}  # an optional PCA parameter\n",
    ")\n",
    "print(df_pca.head())\n",
    "\n",
    "# 2) UMAP Example\n",
    "df_umap = dimensionality_reduction(\n",
    "    df_features,\n",
    "    method=\"umap\",\n",
    "    n_components=2,\n",
    "    random_state=42,\n",
    "    dr_params={\"n_neighbors\": 15, \"min_dist\": 0.1}\n",
    ")\n",
    "print(df_umap.head())\n",
    "\n",
    "# 3) t-SNE Example\n",
    "df_tsne = dimensionality_reduction(\n",
    "    df_features,\n",
    "    method=\"tsne\",\n",
    "    n_components=2,\n",
    "    random_state=42,\n",
    "    dr_params={\"perplexity\": 30, \"learning_rate\": 200}\n",
    ")\n",
    "print(df_tsne.head())\n",
    "\n",
    "# 4) No Dimensionality Reduction\n",
    "df_none = dimensionality_reduction(df_features, method=\"none\")\n",
    "print(df_none.head())  # Same as original\n"
   ]
  },
  {
   "cell_type": "code",
   "execution_count": 12,
   "metadata": {},
   "outputs": [],
   "source": [
    "import plotly.graph_objects as go\n",
    "import matplotlib.colors as mcolors\n",
    "\n",
    "def interactive_plot_2d(df_curated, df_reduced,\n",
    "                        x_dim=\"DR_1\", y_dim=\"DR_2\",\n",
    "                        title=\"Interactive 2D Scatter\",\n",
    "                        out_html=None):\n",
    "    \"\"\"\n",
    "    Creates an interactive Plotly scatter plot with:\n",
    "      - One base hue per World, brightness variation per Level.\n",
    "      - Hover tooltips showing w{World}l{Level}s{Scene}.\n",
    "      - Legend placed outside the main frame (upper left).\n",
    "      - Optional export to an HTML file.\n",
    "\n",
    "    Parameters\n",
    "    ----------\n",
    "    df_curated : pd.DataFrame\n",
    "        Should have columns: 'World', 'Level', 'Scene', ...\n",
    "        Must align with df_reduced (index or a merge key).\n",
    "\n",
    "    df_reduced : pd.DataFrame\n",
    "        Contains 2D coordinates, e.g. DR_1 and DR_2 (or your chosen x,y).\n",
    "        Must align with df_curated.\n",
    "\n",
    "    x_dim : str, optional\n",
    "        Column name for x-axis in df_reduced. Default \"DR_1\".\n",
    "\n",
    "    y_dim : str, optional\n",
    "        Column name for y-axis in df_reduced. Default \"DR_2\".\n",
    "\n",
    "    title : str, optional\n",
    "        The plot title.\n",
    "\n",
    "    out_html : str or None, optional\n",
    "        If provided, saves the figure to the specified HTML file.\n",
    "\n",
    "    Returns\n",
    "    -------\n",
    "    None\n",
    "        Displays an interactive plot in the notebook,\n",
    "        and optionally writes it to an HTML file.\n",
    "    \"\"\"\n",
    "\n",
    "    # 1. Merge or join DataFrames\n",
    "    # If they share the same index:\n",
    "    df = df_curated.join(df_reduced, how=\"inner\")\n",
    "    # If they share a 'scene_ID' key instead, you'd do:\n",
    "    # df = df_curated.merge(df_reduced, on='scene_ID', how=\"inner\")\n",
    "\n",
    "    # 2. Create a comprehensive label like w1l2s3\n",
    "    df[\"scene_ID\"] = df.apply(lambda r: f\"w{r['World']}l{r['Level']}s{r['Scene']}\", axis=1)\n",
    "\n",
    "    # 3. Define base hues per World (internally)\n",
    "    base_hues = {\n",
    "        1: \"red\",\n",
    "        2: \"blue\",\n",
    "        3: \"green\",\n",
    "        4: \"#FFA500\",  # more vibrant orange\n",
    "        5: \"purple\",\n",
    "        6: \"brown\",\n",
    "        7: \"yellow\",   # replaced pink with yellow\n",
    "        8: \"gray\"\n",
    "    }\n",
    "\n",
    "    # 4. Identify levels per world\n",
    "    worlds = sorted(df[\"World\"].unique())\n",
    "    world_levels = {\n",
    "        w: sorted(df.loc[df[\"World\"] == w, \"Level\"].unique()) for w in worlds\n",
    "    }\n",
    "\n",
    "    # Helper to vary brightness\n",
    "    def adjust_brightness(color, factor):\n",
    "        c = mcolors.to_rgb(color)\n",
    "        return tuple(min(1, max(0, chan * factor)) for chan in c)\n",
    "\n",
    "    # Build final color dictionary: (w, lvl) -> color\n",
    "    wl_colors = {}\n",
    "    for w in worlds:\n",
    "        base = base_hues.get(w, \"gray\")  # fallback if not defined\n",
    "        lvls = world_levels[w]\n",
    "        count_lvls = len(lvls)\n",
    "\n",
    "        # Spread brightness from 0.7 to 1.3\n",
    "        for i, lvl in enumerate(lvls):\n",
    "            if count_lvls == 1:\n",
    "                factor = 1.0\n",
    "            else:\n",
    "                fraction = i / (count_lvls - 1)\n",
    "                factor = 0.7 + 0.6 * fraction\n",
    "            wl_colors[(w, lvl)] = adjust_brightness(base, factor)\n",
    "\n",
    "    # 5. Create a Plotly figure and add one trace per (World, Level)\n",
    "    fig = go.Figure()\n",
    "\n",
    "    for (w, lvl), color_rgb in wl_colors.items():\n",
    "        # Convert (r, g, b) in [0,1] to a CSS string like 'rgba(...)'\n",
    "        color_str = f\"rgba({int(color_rgb[0]*255)},{int(color_rgb[1]*255)},{int(color_rgb[2]*255)},0.8)\"\n",
    "\n",
    "        subset = df[(df[\"World\"] == w) & (df[\"Level\"] == lvl)]\n",
    "\n",
    "        fig.add_trace(\n",
    "            go.Scatter(\n",
    "                x=subset[x_dim],\n",
    "                y=subset[y_dim],\n",
    "                mode='markers',\n",
    "                name=f\"w{w}l{lvl}\",\n",
    "                marker=dict(color=color_str),\n",
    "                # Hover shows the comprehensive scene_ID and x,y\n",
    "                text=subset[\"scene_ID\"],\n",
    "                hovertemplate=(\n",
    "                    \"Scene ID: %{text}<br>\"\n",
    "                    f\"{x_dim}: %{{x}}<br>\"\n",
    "                    f\"{y_dim}: %{{y}}<extra></extra>\"\n",
    "                )\n",
    "            )\n",
    "        )\n",
    "\n",
    "    # 6. Update layout: place legend outside the main frame (upper left region)\n",
    "    fig.update_layout(\n",
    "        title=title,\n",
    "        xaxis_title=x_dim,\n",
    "        yaxis_title=y_dim,\n",
    "        legend=dict(\n",
    "            x=1.02,  # shift right\n",
    "            y=1,     # top aligned\n",
    "            xanchor='left',\n",
    "            yanchor='top',\n",
    "            bgcolor='rgba(0,0,0,0)'  # transparent background\n",
    "        ),\n",
    "        margin=dict(r=200),  # extra space on the right to accommodate legend\n",
    "        hovermode='closest'\n",
    "    )\n",
    "\n",
    "    # 7. Optionally save to HTML, then display\n",
    "    if out_html:\n",
    "        fig.write_html(out_html)\n",
    "\n",
    "    fig.show()\n"
   ]
  },
  {
   "cell_type": "code",
   "execution_count": 13,
   "metadata": {},
   "outputs": [
    {
     "data": {
      "application/vnd.plotly.v1+json": {
       "config": {
        "plotlyServerURL": "https://plot.ly"
       },
       "data": [
        {
         "hovertemplate": "Scene ID: %{text}<br>DR_1: %{x}<br>DR_2: %{y}<extra></extra>",
         "marker": {
          "color": "rgba(178,0,0,0.8)"
         },
         "mode": "markers",
         "name": "w1l1",
         "text": [
          "w1l1s0",
          "w1l1s1",
          "w1l1s2",
          "w1l1s3",
          "w1l1s4",
          "w1l1s5",
          "w1l1s6",
          "w1l1s7",
          "w1l1s8",
          "w1l1s9",
          "w1l1s10",
          "w1l1s11",
          "w1l1s12",
          "w1l1s13",
          "w1l1s14"
         ],
         "type": "scatter",
         "x": [
          33.720115661621094,
          32.13386154174805,
          32.23843765258789,
          32.921875,
          31.67280387878418,
          36.2788200378418,
          36.59587478637695,
          36.58705139160156,
          36.62611770629883,
          34.266944885253906,
          33.860198974609375,
          32.305999755859375,
          29.432092666625977,
          31.02920913696289,
          33.98381042480469
         ],
         "y": [
          -34.88197708129883,
          -33.34469223022461,
          -30.521678924560547,
          -33.7039794921875,
          -30.39316749572754,
          -36.574729919433594,
          -32.88462829589844,
          -32.88483428955078,
          -32.541500091552734,
          -28.321943283081055,
          -27.22100257873535,
          -30.955955505371094,
          -23.39859390258789,
          -26.366086959838867,
          -27.133554458618164
         ]
        },
        {
         "hovertemplate": "Scene ID: %{text}<br>DR_1: %{x}<br>DR_2: %{y}<extra></extra>",
         "marker": {
          "color": "rgba(255,0,0,0.8)"
         },
         "mode": "markers",
         "name": "w1l2",
         "text": [
          "w1l2s0",
          "w1l2s1",
          "w1l2s2",
          "w1l2s3",
          "w1l2s4",
          "w1l2s5",
          "w1l2s6",
          "w1l2s7",
          "w1l2s8",
          "w1l2s9",
          "w1l2s10",
          "w1l2s11",
          "w1l2s12"
         ],
         "type": "scatter",
         "x": [
          31.053367614746094,
          30.890735626220703,
          31.030439376831055,
          33.42784881591797,
          36.62322998046875,
          36.45336151123047,
          33.07391357421875,
          29.414840698242188,
          32.57907485961914,
          36.160823822021484,
          36.62282180786133,
          34.10472869873047,
          32.42609405517578
         ],
         "y": [
          -26.39456558227539,
          -26.166322708129883,
          -26.360401153564453,
          -31.581684112548828,
          -32.557701110839844,
          -36.46046447753906,
          -30.24028205871582,
          -23.32736587524414,
          -31.02044105529785,
          -36.92735290527344,
          -36.077308654785156,
          -26.980045318603516,
          -30.921730041503906
         ]
        },
        {
         "hovertemplate": "Scene ID: %{text}<br>DR_1: %{x}<br>DR_2: %{y}<extra></extra>",
         "marker": {
          "color": "rgba(255,0,0,0.8)"
         },
         "mode": "markers",
         "name": "w1l3",
         "text": [
          "w1l3s0",
          "w1l3s1",
          "w1l3s2",
          "w1l3s3",
          "w1l3s4",
          "w1l3s5",
          "w1l3s6",
          "w1l3s7",
          "w1l3s8",
          "w1l3s9",
          "w1l3s10"
         ],
         "type": "scatter",
         "x": [
          33.736541748046875,
          30.62848663330078,
          30.707677841186523,
          36.281368255615234,
          29.74888038635254,
          30.177406311035156,
          30.03200340270996,
          30.877614974975586,
          30.576583862304688,
          29.960546493530273,
          34.07518768310547
         ],
         "y": [
          -35.007171630859375,
          -31.370052337646484,
          -32.404693603515625,
          -33.250396728515625,
          -31.203258514404297,
          -31.413928985595703,
          -31.06001091003418,
          -31.119892120361328,
          -31.447799682617188,
          -30.668371200561523,
          -26.783342361450195
         ]
        },
        {
         "hovertemplate": "Scene ID: %{text}<br>DR_1: %{x}<br>DR_2: %{y}<extra></extra>",
         "marker": {
          "color": "rgba(0,0,178,0.8)"
         },
         "mode": "markers",
         "name": "w2l1",
         "text": [
          "w2l1s0",
          "w2l1s1",
          "w2l1s2",
          "w2l1s3",
          "w2l1s4",
          "w2l1s5",
          "w2l1s6",
          "w2l1s7",
          "w2l1s8",
          "w2l1s9",
          "w2l1s10",
          "w2l1s11",
          "w2l1s12",
          "w2l1s13",
          "w2l1s14",
          "w2l1s15",
          "w2l1s16"
         ],
         "type": "scatter",
         "x": [
          33.53617858886719,
          32.10285949707031,
          31.05954933166504,
          31.702608108520508,
          36.61436080932617,
          30.845090866088867,
          33.6700553894043,
          29.24321746826172,
          36.03572463989258,
          29.276765823364258,
          35.45541763305664,
          32.082637786865234,
          35.70723342895508,
          35.612266540527344,
          30.885231018066406,
          32.228843688964844,
          34.30495071411133
         ],
         "y": [
          -34.85295104980469,
          -28.079299926757812,
          -26.403968811035156,
          -30.42159080505371,
          -32.33620834350586,
          -26.160778045654297,
          -31.391830444335938,
          -23.208892822265625,
          -37.0290412902832,
          -23.23444366455078,
          -37.10557556152344,
          -29.139320373535156,
          -37.21138381958008,
          -37.26436233520508,
          -26.172983169555664,
          -33.45969772338867,
          -27.14044189453125
         ]
        },
        {
         "hovertemplate": "Scene ID: %{text}<br>DR_1: %{x}<br>DR_2: %{y}<extra></extra>",
         "marker": {
          "color": "rgba(0,0,255,0.8)"
         },
         "mode": "markers",
         "name": "w2l3",
         "text": [
          "w2l3s0",
          "w2l3s1",
          "w2l3s2",
          "w2l3s3",
          "w2l3s4",
          "w2l3s5",
          "w2l3s6",
          "w2l3s7",
          "w2l3s8",
          "w2l3s9",
          "w2l3s10",
          "w2l3s11",
          "w2l3s12",
          "w2l3s13"
         ],
         "type": "scatter",
         "x": [
          34.05147171020508,
          33.2419548034668,
          33.23349380493164,
          33.098812103271484,
          35.501068115234375,
          35.45041275024414,
          35.83057403564453,
          35.64674377441406,
          30.447145462036133,
          35.71422576904297,
          35.43436813354492,
          33.11376190185547,
          35.68291091918945,
          34.115478515625
         ],
         "y": [
          -35.21643829345703,
          -33.50336456298828,
          -33.83393096923828,
          -34.00111389160156,
          -37.20628356933594,
          -37.278656005859375,
          -37.57975769042969,
          -37.243526458740234,
          -32.14670181274414,
          -37.36528396606445,
          -37.45615005493164,
          -33.59312438964844,
          -37.42365646362305,
          -27.084259033203125
         ]
        },
        {
         "hovertemplate": "Scene ID: %{text}<br>DR_1: %{x}<br>DR_2: %{y}<extra></extra>",
         "marker": {
          "color": "rgba(0,89,0,0.8)"
         },
         "mode": "markers",
         "name": "w3l1",
         "text": [
          "w3l1s0",
          "w3l1s1",
          "w3l1s2",
          "w3l1s3",
          "w3l1s4",
          "w3l1s5",
          "w3l1s6",
          "w3l1s7",
          "w3l1s8",
          "w3l1s9",
          "w3l1s10",
          "w3l1s11",
          "w3l1s12"
         ],
         "type": "scatter",
         "x": [
          33.75685501098633,
          31.146726608276367,
          32.1896858215332,
          32.0814094543457,
          29.34139633178711,
          30.815351486206055,
          31.840435028076172,
          36.595157623291016,
          36.403724670410156,
          29.362077713012695,
          36.38547134399414,
          34.22947692871094,
          34.15624237060547
         ],
         "y": [
          -34.85322570800781,
          -26.533294677734375,
          -29.691896438598633,
          -28.100797653198242,
          -23.358325958251953,
          -26.131807327270508,
          -27.748598098754883,
          -32.25593566894531,
          -33.09221267700195,
          -23.141429901123047,
          -32.071044921875,
          -32.61166763305664,
          -27.03635597229004
         ]
        },
        {
         "hovertemplate": "Scene ID: %{text}<br>DR_1: %{x}<br>DR_2: %{y}<extra></extra>",
         "marker": {
          "color": "rgba(0,128,0,0.8)"
         },
         "mode": "markers",
         "name": "w3l2",
         "text": [
          "w3l2s0",
          "w3l2s1",
          "w3l2s2",
          "w3l2s3",
          "w3l2s4",
          "w3l2s5",
          "w3l2s6",
          "w3l2s7",
          "w3l2s8",
          "w3l2s9",
          "w3l2s10",
          "w3l2s11",
          "w3l2s12",
          "w3l2s13",
          "w3l2s14"
         ],
         "type": "scatter",
         "x": [
          33.3091926574707,
          33.27743911743164,
          33.41150665283203,
          31.403650283813477,
          32.26076889038086,
          33.13637924194336,
          32.29446029663086,
          32.84101867675781,
          32.80939483642578,
          33.34461975097656,
          33.716529846191406,
          31.592918395996094,
          33.24509811401367,
          33.544639587402344,
          34.23184585571289
         ],
         "y": [
          -34.26199722290039,
          -31.50639533996582,
          -31.510482788085938,
          -30.792587280273438,
          -30.537986755371094,
          -30.558725357055664,
          -29.326696395874023,
          -33.676700592041016,
          -33.84539031982422,
          -31.576557159423828,
          -32.13871765136719,
          -30.953601837158203,
          -31.33536720275879,
          -31.960712432861328,
          -26.90635108947754
         ]
        },
        {
         "hovertemplate": "Scene ID: %{text}<br>DR_1: %{x}<br>DR_2: %{y}<extra></extra>",
         "marker": {
          "color": "rgba(0,166,0,0.8)"
         },
         "mode": "markers",
         "name": "w3l3",
         "text": [
          "w3l3s0",
          "w3l3s1",
          "w3l3s2",
          "w3l3s3",
          "w3l3s4",
          "w3l3s5",
          "w3l3s6",
          "w3l3s7",
          "w3l3s8",
          "w3l3s9",
          "w3l3s10"
         ],
         "type": "scatter",
         "x": [
          33.59121322631836,
          35.584007263183594,
          29.870695114135742,
          36.202999114990234,
          36.6007194519043,
          32.355777740478516,
          29.82615089416504,
          29.729068756103516,
          35.33004379272461,
          31.506229400634766,
          29.642202377319336
         ],
         "y": [
          -34.95649719238281,
          -37.49116897583008,
          -30.927453994750977,
          -37.350791931152344,
          -36.13692092895508,
          -33.62725067138672,
          -30.94081687927246,
          -31.232210159301758,
          -37.5158805847168,
          -30.877500534057617,
          -30.977893829345703
         ]
        },
        {
         "hovertemplate": "Scene ID: %{text}<br>DR_1: %{x}<br>DR_2: %{y}<extra></extra>",
         "marker": {
          "color": "rgba(178,115,0,0.8)"
         },
         "mode": "markers",
         "name": "w4l1",
         "text": [
          "w4l1s0",
          "w4l1s1",
          "w4l1s2",
          "w4l1s3",
          "w4l1s4",
          "w4l1s5",
          "w4l1s6",
          "w4l1s7",
          "w4l1s8",
          "w4l1s9",
          "w4l1s10",
          "w4l1s11"
         ],
         "type": "scatter",
         "x": [
          33.56620788574219,
          35.804954528808594,
          33.14147186279297,
          35.677310943603516,
          30.94056510925293,
          32.2983512878418,
          33.03083038330078,
          36.7711067199707,
          29.515649795532227,
          30.401525497436523,
          35.69868087768555,
          34.05121612548828
         ],
         "y": [
          -34.78919982910156,
          -37.65472412109375,
          -33.33600997924805,
          -37.453189849853516,
          -26.274696350097656,
          -30.04503059387207,
          -30.152149200439453,
          -32.66991424560547,
          -23.201236724853516,
          -32.09923553466797,
          -36.852928161621094,
          -27.023113250732422
         ]
        },
        {
         "hovertemplate": "Scene ID: %{text}<br>DR_1: %{x}<br>DR_2: %{y}<extra></extra>",
         "marker": {
          "color": "rgba(255,165,0,0.8)"
         },
         "mode": "markers",
         "name": "w4l2",
         "text": [
          "w4l2s0",
          "w4l2s1",
          "w4l2s2",
          "w4l2s3",
          "w4l2s4",
          "w4l2s5",
          "w4l2s6",
          "w4l2s7",
          "w4l2s8",
          "w4l2s9",
          "w4l2s10",
          "w4l2s11",
          "w4l2s12",
          "w4l2s13",
          "w4l2s14",
          "w4l2s15",
          "w4l2s16",
          "w4l2s17"
         ],
         "type": "scatter",
         "x": [
          33.76960754394531,
          29.812864303588867,
          33.6407356262207,
          36.5505485534668,
          32.03672790527344,
          29.08256721496582,
          29.187877655029297,
          31.283668518066406,
          29.336166381835938,
          31.650588989257812,
          32.463504791259766,
          34.212608337402344,
          32.7425651550293,
          34.0463981628418,
          31.2550106048584,
          32.130859375,
          34.22528076171875,
          29.185955047607422
         ],
         "y": [
          -34.7108039855957,
          -23.633615493774414,
          -31.42839241027832,
          -36.41530227661133,
          -28.09646987915039,
          -23.431764602661133,
          -23.248857498168945,
          -26.925071716308594,
          -23.254732131958008,
          -30.374296188354492,
          -31.409273147583008,
          -28.345680236816406,
          -29.970291137695312,
          -27.912338256835938,
          -26.638315200805664,
          -29.745960235595703,
          -26.9224910736084,
          -23.324155807495117
         ]
        },
        {
         "hovertemplate": "Scene ID: %{text}<br>DR_1: %{x}<br>DR_2: %{y}<extra></extra>",
         "marker": {
          "color": "rgba(255,214,0,0.8)"
         },
         "mode": "markers",
         "name": "w4l3",
         "text": [
          "w4l3s0",
          "w4l3s1",
          "w4l3s2",
          "w4l3s3",
          "w4l3s4",
          "w4l3s5",
          "w4l3s6",
          "w4l3s7",
          "w4l3s8",
          "w4l3s9",
          "w4l3s10"
         ],
         "type": "scatter",
         "x": [
          33.68733596801758,
          30.91607666015625,
          30.708843231201172,
          29.64700698852539,
          29.77248191833496,
          30.502105712890625,
          29.936731338500977,
          29.878618240356445,
          30.006423950195312,
          30.1409854888916,
          29.640623092651367
         ],
         "y": [
          -34.93333435058594,
          -31.164098739624023,
          -32.36730194091797,
          -31.40239143371582,
          -31.155122756958008,
          -32.21875762939453,
          -30.964256286621094,
          -31.088319778442383,
          -30.911724090576172,
          -31.482608795166016,
          -30.800973892211914
         ]
        },
        {
         "hovertemplate": "Scene ID: %{text}<br>DR_1: %{x}<br>DR_2: %{y}<extra></extra>",
         "marker": {
          "color": "rgba(89,0,89,0.8)"
         },
         "mode": "markers",
         "name": "w5l1",
         "text": [
          "w5l1s0",
          "w5l1s1",
          "w5l1s2",
          "w5l1s3",
          "w5l1s4",
          "w5l1s5",
          "w5l1s6",
          "w5l1s7",
          "w5l1s8",
          "w5l1s9",
          "w5l1s10",
          "w5l1s11",
          "w5l1s12",
          "w5l1s13"
         ],
         "type": "scatter",
         "x": [
          33.62916946411133,
          33.77224349975586,
          33.27603530883789,
          36.219093322753906,
          33.6821403503418,
          33.60791015625,
          36.29059982299805,
          34.0233268737793,
          33.60430145263672,
          33.47286605834961,
          35.51188659667969,
          29.246614456176758,
          32.75267791748047,
          34.086849212646484
         ],
         "y": [
          -35.013614654541016,
          -32.22298812866211,
          -31.43814468383789,
          -33.28408432006836,
          -32.20317459106445,
          -31.72896957397461,
          -36.96807098388672,
          -32.4720344543457,
          -32.00303268432617,
          -31.671627044677734,
          -36.945037841796875,
          -23.292022705078125,
          -33.618656158447266,
          -27.051488876342773
         ]
        },
        {
         "hovertemplate": "Scene ID: %{text}<br>DR_1: %{x}<br>DR_2: %{y}<extra></extra>",
         "marker": {
          "color": "rgba(128,0,128,0.8)"
         },
         "mode": "markers",
         "name": "w5l2",
         "text": [
          "w5l2s0",
          "w5l2s1",
          "w5l2s2",
          "w5l2s3",
          "w5l2s4",
          "w5l2s5",
          "w5l2s6",
          "w5l2s7",
          "w5l2s8",
          "w5l2s9",
          "w5l2s10",
          "w5l2s11",
          "w5l2s12",
          "w5l2s13",
          "w5l2s14"
         ],
         "type": "scatter",
         "x": [
          33.64614486694336,
          33.27709197998047,
          36.49852752685547,
          33.44102478027344,
          36.05145263671875,
          32.12307357788086,
          32.517066955566406,
          29.11416244506836,
          36.39577865600586,
          32.684288024902344,
          36.773040771484375,
          33.6976432800293,
          36.13829040527344,
          31.1088809967041,
          34.19824981689453
         ],
         "y": [
          -34.93398666381836,
          -33.40253829956055,
          -36.17649459838867,
          -33.5053825378418,
          -33.471961975097656,
          -30.977325439453125,
          -33.70919418334961,
          -23.11402702331543,
          -36.53852081298828,
          -33.906715393066406,
          -32.42489242553711,
          -31.343704223632812,
          -36.8105583190918,
          -26.298540115356445,
          -26.77006721496582
         ]
        },
        {
         "hovertemplate": "Scene ID: %{text}<br>DR_1: %{x}<br>DR_2: %{y}<extra></extra>",
         "marker": {
          "color": "rgba(166,0,166,0.8)"
         },
         "mode": "markers",
         "name": "w5l3",
         "text": [
          "w5l3s0",
          "w5l3s1",
          "w5l3s2",
          "w5l3s3",
          "w5l3s4",
          "w5l3s5",
          "w5l3s6",
          "w5l3s7",
          "w5l3s8",
          "w5l3s9",
          "w5l3s10"
         ],
         "type": "scatter",
         "x": [
          33.72865295410156,
          30.575504302978516,
          33.296836853027344,
          36.134586334228516,
          29.707521438598633,
          30.510494232177734,
          30.189496994018555,
          30.401968002319336,
          30.581464767456055,
          32.70281219482422,
          34.208770751953125
         ],
         "y": [
          -35.07897186279297,
          -32.24463653564453,
          -33.68721389770508,
          -36.910919189453125,
          -31.59662437438965,
          -32.14870834350586,
          -32.010074615478516,
          -32.33139419555664,
          -32.30781555175781,
          -33.87510299682617,
          -26.956546783447266
         ]
        },
        {
         "hovertemplate": "Scene ID: %{text}<br>DR_1: %{x}<br>DR_2: %{y}<extra></extra>",
         "marker": {
          "color": "rgba(115,29,29,0.8)"
         },
         "mode": "markers",
         "name": "w6l1",
         "text": [
          "w6l1s0",
          "w6l1s1",
          "w6l1s2",
          "w6l1s3",
          "w6l1s4",
          "w6l1s5",
          "w6l1s6",
          "w6l1s7",
          "w6l1s8",
          "w6l1s9",
          "w6l1s10"
         ],
         "type": "scatter",
         "x": [
          33.87748336791992,
          35.63151168823242,
          30.955074310302734,
          35.75321960449219,
          35.22795867919922,
          35.80360412597656,
          33.14728927612305,
          30.506799697875977,
          35.09159469604492,
          35.55636978149414,
          34.03220748901367
         ],
         "y": [
          -34.986045837402344,
          -36.96828079223633,
          -32.40578079223633,
          -37.38816452026367,
          -37.29520797729492,
          -37.65176773071289,
          -34.0032844543457,
          -32.44750213623047,
          -37.161495208740234,
          -37.312259674072266,
          -26.59153938293457
         ]
        },
        {
         "hovertemplate": "Scene ID: %{text}<br>DR_1: %{x}<br>DR_2: %{y}<extra></extra>",
         "marker": {
          "color": "rgba(165,42,42,0.8)"
         },
         "mode": "markers",
         "name": "w6l2",
         "text": [
          "w6l2s0",
          "w6l2s1",
          "w6l2s2",
          "w6l2s3",
          "w6l2s4",
          "w6l2s5",
          "w6l2s6",
          "w6l2s7",
          "w6l2s8",
          "w6l2s9",
          "w6l2s10",
          "w6l2s11",
          "w6l2s12",
          "w6l2s13",
          "w6l2s14",
          "w6l2s15",
          "w6l2s16",
          "w6l2s17"
         ],
         "type": "scatter",
         "x": [
          33.754295349121094,
          32.99188995361328,
          29.33380126953125,
          32.73926544189453,
          32.675960540771484,
          32.713314056396484,
          32.458431243896484,
          33.24818801879883,
          29.202274322509766,
          32.654205322265625,
          33.184814453125,
          36.177276611328125,
          33.200138092041016,
          34.1976318359375,
          32.8259162902832,
          29.449420928955078,
          33.42300033569336,
          33.95457077026367
         ],
         "y": [
          -35.187522888183594,
          -29.816078186035156,
          -23.260318756103516,
          -29.913354873657227,
          -29.35781478881836,
          -29.904125213623047,
          -30.74248695373535,
          -29.988544464111328,
          -23.092039108276367,
          -29.89251708984375,
          -30.06060218811035,
          -37.214046478271484,
          -29.955947875976562,
          -28.164052963256836,
          -33.238311767578125,
          -23.35061264038086,
          -30.898094177246094,
          -26.76548957824707
         ]
        },
        {
         "hovertemplate": "Scene ID: %{text}<br>DR_1: %{x}<br>DR_2: %{y}<extra></extra>",
         "marker": {
          "color": "rgba(214,54,54,0.8)"
         },
         "mode": "markers",
         "name": "w6l3",
         "text": [
          "w6l3s0",
          "w6l3s1",
          "w6l3s2",
          "w6l3s3",
          "w6l3s4",
          "w6l3s5",
          "w6l3s6",
          "w6l3s7",
          "w6l3s8",
          "w6l3s9"
         ],
         "type": "scatter",
         "x": [
          33.829864501953125,
          30.567703247070312,
          29.770477294921875,
          29.669221878051758,
          29.801156997680664,
          29.610849380493164,
          30.45414161682129,
          30.092370986938477,
          29.859983444213867,
          35.929630279541016
         ],
         "y": [
          -35.02037048339844,
          -31.64592933654785,
          -30.855436325073242,
          -31.346445083618164,
          -30.77458953857422,
          -31.10758399963379,
          -32.2530632019043,
          -31.922279357910156,
          -31.049671173095703,
          -36.309242248535156
         ]
        },
        {
         "hovertemplate": "Scene ID: %{text}<br>DR_1: %{x}<br>DR_2: %{y}<extra></extra>",
         "marker": {
          "color": "rgba(178,178,0,0.8)"
         },
         "mode": "markers",
         "name": "w7l1",
         "text": [
          "w7l1s0",
          "w7l1s1",
          "w7l1s2",
          "w7l1s3",
          "w7l1s4",
          "w7l1s5",
          "w7l1s6",
          "w7l1s7",
          "w7l1s8",
          "w7l1s9",
          "w7l1s10",
          "w7l1s11",
          "w7l1s12"
         ],
         "type": "scatter",
         "x": [
          33.65688705444336,
          32.406192779541016,
          32.05415725708008,
          32.318260192871094,
          32.01245880126953,
          32.796241760253906,
          32.429439544677734,
          29.253494262695312,
          32.25876235961914,
          32.25323486328125,
          32.82014846801758,
          32.15639877319336,
          33.951454162597656
         ],
         "y": [
          -35.1059455871582,
          -29.593461990356445,
          -28.12636947631836,
          -29.9752254486084,
          -28.223552703857422,
          -33.199806213378906,
          -29.53023910522461,
          -23.20655059814453,
          -30.197750091552734,
          -30.153270721435547,
          -33.76029586791992,
          -29.50398063659668,
          -26.719715118408203
         ]
        },
        {
         "hovertemplate": "Scene ID: %{text}<br>DR_1: %{x}<br>DR_2: %{y}<extra></extra>",
         "marker": {
          "color": "rgba(255,255,0,0.8)"
         },
         "mode": "markers",
         "name": "w7l3",
         "text": [
          "w7l3s0",
          "w7l3s1",
          "w7l3s2",
          "w7l3s3",
          "w7l3s4",
          "w7l3s5",
          "w7l3s6",
          "w7l3s7",
          "w7l3s8",
          "w7l3s9",
          "w7l3s10",
          "w7l3s11",
          "w7l3s12",
          "w7l3s13"
         ],
         "type": "scatter",
         "x": [
          34.1588249206543,
          32.81861877441406,
          33.03095626831055,
          33.18605041503906,
          35.38779830932617,
          35.57436752319336,
          35.92474365234375,
          35.631839752197266,
          30.83057975769043,
          35.1299934387207,
          35.27281951904297,
          30.370180130004883,
          35.72563171386719,
          33.966880798339844
         ],
         "y": [
          -35.15203094482422,
          -33.910587310791016,
          -33.672000885009766,
          -34.06239318847656,
          -37.13981246948242,
          -37.57792663574219,
          -37.55331039428711,
          -37.48410415649414,
          -32.56658172607422,
          -36.89701461791992,
          -37.51740264892578,
          -31.121379852294922,
          -36.66358184814453,
          -26.878936767578125
         ]
        },
        {
         "hovertemplate": "Scene ID: %{text}<br>DR_1: %{x}<br>DR_2: %{y}<extra></extra>",
         "marker": {
          "color": "rgba(89,89,89,0.8)"
         },
         "mode": "markers",
         "name": "w8l1",
         "text": [
          "w8l1s0",
          "w8l1s1",
          "w8l1s2",
          "w8l1s3",
          "w8l1s4",
          "w8l1s5",
          "w8l1s6",
          "w8l1s7",
          "w8l1s8",
          "w8l1s9",
          "w8l1s10",
          "w8l1s11",
          "w8l1s12",
          "w8l1s13",
          "w8l1s14",
          "w8l1s15",
          "w8l1s16",
          "w8l1s17",
          "w8l1s18",
          "w8l1s19",
          "w8l1s20",
          "w8l1s21",
          "w8l1s22",
          "w8l1s23",
          "w8l1s24",
          "w8l1s25",
          "w8l1s26"
         ],
         "type": "scatter",
         "x": [
          33.41204833984375,
          33.496578216552734,
          31.30068016052246,
          30.42560577392578,
          33.85227966308594,
          32.81047821044922,
          33.121131896972656,
          29.336645126342773,
          33.13066864013672,
          33.77495193481445,
          33.443050384521484,
          33.22439193725586,
          32.16205596923828,
          30.84815216064453,
          31.306316375732422,
          30.782310485839844,
          35.75083541870117,
          33.2857780456543,
          33.74604797363281,
          33.191871643066406,
          33.541568756103516,
          32.51738357543945,
          32.295841217041016,
          30.556129455566406,
          33.8128662109375,
          32.9876594543457,
          34.334693908691406
         ],
         "y": [
          -34.51557159423828,
          -31.769100189208984,
          -30.906286239624023,
          -31.19915008544922,
          -32.137664794921875,
          -29.675819396972656,
          -30.240917205810547,
          -23.538341522216797,
          -30.939809799194336,
          -32.21150207519531,
          -31.413185119628906,
          -30.984834671020508,
          -29.00436782836914,
          -31.161048889160156,
          -30.726972579956055,
          -31.250896453857422,
          -36.28799057006836,
          -31.38739585876465,
          -32.26390838623047,
          -31.49925994873047,
          -33.4616813659668,
          -31.444805145263672,
          -30.551443099975586,
          -31.572805404663086,
          -32.18207550048828,
          -30.189672470092773,
          -26.972646713256836
         ]
        },
        {
         "hovertemplate": "Scene ID: %{text}<br>DR_1: %{x}<br>DR_2: %{y}<extra></extra>",
         "marker": {
          "color": "rgba(128,128,128,0.8)"
         },
         "mode": "markers",
         "name": "w8l2",
         "text": [
          "w8l2s0",
          "w8l2s1",
          "w8l2s2",
          "w8l2s3",
          "w8l2s4",
          "w8l2s5",
          "w8l2s6",
          "w8l2s7",
          "w8l2s8",
          "w8l2s9",
          "w8l2s10",
          "w8l2s11",
          "w8l2s12",
          "w8l2s13",
          "w8l2s14",
          "w8l2s15",
          "w8l2s16",
          "w8l2s17"
         ],
         "type": "scatter",
         "x": [
          33.435455322265625,
          33.48113250732422,
          32.42593002319336,
          35.34541320800781,
          32.38668441772461,
          33.24116897583008,
          36.2192497253418,
          32.20005416870117,
          31.895532608032227,
          32.06613540649414,
          31.959781646728516,
          32.433101654052734,
          30.402908325195312,
          33.007415771484375,
          29.3331241607666,
          33.019676208496094,
          31.592464447021484,
          33.98244857788086
         ],
         "y": [
          -34.532039642333984,
          -33.306678771972656,
          -33.58940124511719,
          -37.37867736816406,
          -31.4813232421875,
          -33.66242599487305,
          -33.3116455078125,
          -29.71268081665039,
          -28.161653518676758,
          -28.11435890197754,
          -27.921218872070312,
          -29.924095153808594,
          -31.508222579956055,
          -30.13927459716797,
          -23.10981559753418,
          -31.72669219970703,
          -30.32098960876465,
          -26.541276931762695
         ]
        },
        {
         "hovertemplate": "Scene ID: %{text}<br>DR_1: %{x}<br>DR_2: %{y}<extra></extra>",
         "marker": {
          "color": "rgba(166,166,166,0.8)"
         },
         "mode": "markers",
         "name": "w8l3",
         "text": [
          "w8l3s0",
          "w8l3s1",
          "w8l3s2",
          "w8l3s3",
          "w8l3s4",
          "w8l3s5",
          "w8l3s6",
          "w8l3s7",
          "w8l3s8",
          "w8l3s9",
          "w8l3s10",
          "w8l3s11"
         ],
         "type": "scatter",
         "x": [
          33.290374755859375,
          32.14215087890625,
          32.250370025634766,
          36.77328872680664,
          35.42837142944336,
          32.15114212036133,
          36.58200454711914,
          32.47906494140625,
          32.836666107177734,
          32.948341369628906,
          32.40382385253906,
          34.19457244873047
         ],
         "y": [
          -34.245208740234375,
          -30.03774642944336,
          -30.486255645751953,
          -32.75941848754883,
          -37.14459228515625,
          -30.195629119873047,
          -32.313743591308594,
          -30.96743392944336,
          -33.866695404052734,
          -33.8569221496582,
          -29.95744514465332,
          -27.164159774780273
         ]
        }
       ],
       "layout": {
        "hovermode": "closest",
        "legend": {
         "bgcolor": "rgba(0,0,0,0)",
         "x": 1.02,
         "xanchor": "left",
         "y": 1,
         "yanchor": "top"
        },
        "margin": {
         "r": 200
        },
        "template": {
         "data": {
          "bar": [
           {
            "error_x": {
             "color": "#2a3f5f"
            },
            "error_y": {
             "color": "#2a3f5f"
            },
            "marker": {
             "line": {
              "color": "#E5ECF6",
              "width": 0.5
             },
             "pattern": {
              "fillmode": "overlay",
              "size": 10,
              "solidity": 0.2
             }
            },
            "type": "bar"
           }
          ],
          "barpolar": [
           {
            "marker": {
             "line": {
              "color": "#E5ECF6",
              "width": 0.5
             },
             "pattern": {
              "fillmode": "overlay",
              "size": 10,
              "solidity": 0.2
             }
            },
            "type": "barpolar"
           }
          ],
          "carpet": [
           {
            "aaxis": {
             "endlinecolor": "#2a3f5f",
             "gridcolor": "white",
             "linecolor": "white",
             "minorgridcolor": "white",
             "startlinecolor": "#2a3f5f"
            },
            "baxis": {
             "endlinecolor": "#2a3f5f",
             "gridcolor": "white",
             "linecolor": "white",
             "minorgridcolor": "white",
             "startlinecolor": "#2a3f5f"
            },
            "type": "carpet"
           }
          ],
          "choropleth": [
           {
            "colorbar": {
             "outlinewidth": 0,
             "ticks": ""
            },
            "type": "choropleth"
           }
          ],
          "contour": [
           {
            "colorbar": {
             "outlinewidth": 0,
             "ticks": ""
            },
            "colorscale": [
             [
              0,
              "#0d0887"
             ],
             [
              0.1111111111111111,
              "#46039f"
             ],
             [
              0.2222222222222222,
              "#7201a8"
             ],
             [
              0.3333333333333333,
              "#9c179e"
             ],
             [
              0.4444444444444444,
              "#bd3786"
             ],
             [
              0.5555555555555556,
              "#d8576b"
             ],
             [
              0.6666666666666666,
              "#ed7953"
             ],
             [
              0.7777777777777778,
              "#fb9f3a"
             ],
             [
              0.8888888888888888,
              "#fdca26"
             ],
             [
              1,
              "#f0f921"
             ]
            ],
            "type": "contour"
           }
          ],
          "contourcarpet": [
           {
            "colorbar": {
             "outlinewidth": 0,
             "ticks": ""
            },
            "type": "contourcarpet"
           }
          ],
          "heatmap": [
           {
            "colorbar": {
             "outlinewidth": 0,
             "ticks": ""
            },
            "colorscale": [
             [
              0,
              "#0d0887"
             ],
             [
              0.1111111111111111,
              "#46039f"
             ],
             [
              0.2222222222222222,
              "#7201a8"
             ],
             [
              0.3333333333333333,
              "#9c179e"
             ],
             [
              0.4444444444444444,
              "#bd3786"
             ],
             [
              0.5555555555555556,
              "#d8576b"
             ],
             [
              0.6666666666666666,
              "#ed7953"
             ],
             [
              0.7777777777777778,
              "#fb9f3a"
             ],
             [
              0.8888888888888888,
              "#fdca26"
             ],
             [
              1,
              "#f0f921"
             ]
            ],
            "type": "heatmap"
           }
          ],
          "heatmapgl": [
           {
            "colorbar": {
             "outlinewidth": 0,
             "ticks": ""
            },
            "colorscale": [
             [
              0,
              "#0d0887"
             ],
             [
              0.1111111111111111,
              "#46039f"
             ],
             [
              0.2222222222222222,
              "#7201a8"
             ],
             [
              0.3333333333333333,
              "#9c179e"
             ],
             [
              0.4444444444444444,
              "#bd3786"
             ],
             [
              0.5555555555555556,
              "#d8576b"
             ],
             [
              0.6666666666666666,
              "#ed7953"
             ],
             [
              0.7777777777777778,
              "#fb9f3a"
             ],
             [
              0.8888888888888888,
              "#fdca26"
             ],
             [
              1,
              "#f0f921"
             ]
            ],
            "type": "heatmapgl"
           }
          ],
          "histogram": [
           {
            "marker": {
             "pattern": {
              "fillmode": "overlay",
              "size": 10,
              "solidity": 0.2
             }
            },
            "type": "histogram"
           }
          ],
          "histogram2d": [
           {
            "colorbar": {
             "outlinewidth": 0,
             "ticks": ""
            },
            "colorscale": [
             [
              0,
              "#0d0887"
             ],
             [
              0.1111111111111111,
              "#46039f"
             ],
             [
              0.2222222222222222,
              "#7201a8"
             ],
             [
              0.3333333333333333,
              "#9c179e"
             ],
             [
              0.4444444444444444,
              "#bd3786"
             ],
             [
              0.5555555555555556,
              "#d8576b"
             ],
             [
              0.6666666666666666,
              "#ed7953"
             ],
             [
              0.7777777777777778,
              "#fb9f3a"
             ],
             [
              0.8888888888888888,
              "#fdca26"
             ],
             [
              1,
              "#f0f921"
             ]
            ],
            "type": "histogram2d"
           }
          ],
          "histogram2dcontour": [
           {
            "colorbar": {
             "outlinewidth": 0,
             "ticks": ""
            },
            "colorscale": [
             [
              0,
              "#0d0887"
             ],
             [
              0.1111111111111111,
              "#46039f"
             ],
             [
              0.2222222222222222,
              "#7201a8"
             ],
             [
              0.3333333333333333,
              "#9c179e"
             ],
             [
              0.4444444444444444,
              "#bd3786"
             ],
             [
              0.5555555555555556,
              "#d8576b"
             ],
             [
              0.6666666666666666,
              "#ed7953"
             ],
             [
              0.7777777777777778,
              "#fb9f3a"
             ],
             [
              0.8888888888888888,
              "#fdca26"
             ],
             [
              1,
              "#f0f921"
             ]
            ],
            "type": "histogram2dcontour"
           }
          ],
          "mesh3d": [
           {
            "colorbar": {
             "outlinewidth": 0,
             "ticks": ""
            },
            "type": "mesh3d"
           }
          ],
          "parcoords": [
           {
            "line": {
             "colorbar": {
              "outlinewidth": 0,
              "ticks": ""
             }
            },
            "type": "parcoords"
           }
          ],
          "pie": [
           {
            "automargin": true,
            "type": "pie"
           }
          ],
          "scatter": [
           {
            "fillpattern": {
             "fillmode": "overlay",
             "size": 10,
             "solidity": 0.2
            },
            "type": "scatter"
           }
          ],
          "scatter3d": [
           {
            "line": {
             "colorbar": {
              "outlinewidth": 0,
              "ticks": ""
             }
            },
            "marker": {
             "colorbar": {
              "outlinewidth": 0,
              "ticks": ""
             }
            },
            "type": "scatter3d"
           }
          ],
          "scattercarpet": [
           {
            "marker": {
             "colorbar": {
              "outlinewidth": 0,
              "ticks": ""
             }
            },
            "type": "scattercarpet"
           }
          ],
          "scattergeo": [
           {
            "marker": {
             "colorbar": {
              "outlinewidth": 0,
              "ticks": ""
             }
            },
            "type": "scattergeo"
           }
          ],
          "scattergl": [
           {
            "marker": {
             "colorbar": {
              "outlinewidth": 0,
              "ticks": ""
             }
            },
            "type": "scattergl"
           }
          ],
          "scattermapbox": [
           {
            "marker": {
             "colorbar": {
              "outlinewidth": 0,
              "ticks": ""
             }
            },
            "type": "scattermapbox"
           }
          ],
          "scatterpolar": [
           {
            "marker": {
             "colorbar": {
              "outlinewidth": 0,
              "ticks": ""
             }
            },
            "type": "scatterpolar"
           }
          ],
          "scatterpolargl": [
           {
            "marker": {
             "colorbar": {
              "outlinewidth": 0,
              "ticks": ""
             }
            },
            "type": "scatterpolargl"
           }
          ],
          "scatterternary": [
           {
            "marker": {
             "colorbar": {
              "outlinewidth": 0,
              "ticks": ""
             }
            },
            "type": "scatterternary"
           }
          ],
          "surface": [
           {
            "colorbar": {
             "outlinewidth": 0,
             "ticks": ""
            },
            "colorscale": [
             [
              0,
              "#0d0887"
             ],
             [
              0.1111111111111111,
              "#46039f"
             ],
             [
              0.2222222222222222,
              "#7201a8"
             ],
             [
              0.3333333333333333,
              "#9c179e"
             ],
             [
              0.4444444444444444,
              "#bd3786"
             ],
             [
              0.5555555555555556,
              "#d8576b"
             ],
             [
              0.6666666666666666,
              "#ed7953"
             ],
             [
              0.7777777777777778,
              "#fb9f3a"
             ],
             [
              0.8888888888888888,
              "#fdca26"
             ],
             [
              1,
              "#f0f921"
             ]
            ],
            "type": "surface"
           }
          ],
          "table": [
           {
            "cells": {
             "fill": {
              "color": "#EBF0F8"
             },
             "line": {
              "color": "white"
             }
            },
            "header": {
             "fill": {
              "color": "#C8D4E3"
             },
             "line": {
              "color": "white"
             }
            },
            "type": "table"
           }
          ]
         },
         "layout": {
          "annotationdefaults": {
           "arrowcolor": "#2a3f5f",
           "arrowhead": 0,
           "arrowwidth": 1
          },
          "autotypenumbers": "strict",
          "coloraxis": {
           "colorbar": {
            "outlinewidth": 0,
            "ticks": ""
           }
          },
          "colorscale": {
           "diverging": [
            [
             0,
             "#8e0152"
            ],
            [
             0.1,
             "#c51b7d"
            ],
            [
             0.2,
             "#de77ae"
            ],
            [
             0.3,
             "#f1b6da"
            ],
            [
             0.4,
             "#fde0ef"
            ],
            [
             0.5,
             "#f7f7f7"
            ],
            [
             0.6,
             "#e6f5d0"
            ],
            [
             0.7,
             "#b8e186"
            ],
            [
             0.8,
             "#7fbc41"
            ],
            [
             0.9,
             "#4d9221"
            ],
            [
             1,
             "#276419"
            ]
           ],
           "sequential": [
            [
             0,
             "#0d0887"
            ],
            [
             0.1111111111111111,
             "#46039f"
            ],
            [
             0.2222222222222222,
             "#7201a8"
            ],
            [
             0.3333333333333333,
             "#9c179e"
            ],
            [
             0.4444444444444444,
             "#bd3786"
            ],
            [
             0.5555555555555556,
             "#d8576b"
            ],
            [
             0.6666666666666666,
             "#ed7953"
            ],
            [
             0.7777777777777778,
             "#fb9f3a"
            ],
            [
             0.8888888888888888,
             "#fdca26"
            ],
            [
             1,
             "#f0f921"
            ]
           ],
           "sequentialminus": [
            [
             0,
             "#0d0887"
            ],
            [
             0.1111111111111111,
             "#46039f"
            ],
            [
             0.2222222222222222,
             "#7201a8"
            ],
            [
             0.3333333333333333,
             "#9c179e"
            ],
            [
             0.4444444444444444,
             "#bd3786"
            ],
            [
             0.5555555555555556,
             "#d8576b"
            ],
            [
             0.6666666666666666,
             "#ed7953"
            ],
            [
             0.7777777777777778,
             "#fb9f3a"
            ],
            [
             0.8888888888888888,
             "#fdca26"
            ],
            [
             1,
             "#f0f921"
            ]
           ]
          },
          "colorway": [
           "#636efa",
           "#EF553B",
           "#00cc96",
           "#ab63fa",
           "#FFA15A",
           "#19d3f3",
           "#FF6692",
           "#B6E880",
           "#FF97FF",
           "#FECB52"
          ],
          "font": {
           "color": "#2a3f5f"
          },
          "geo": {
           "bgcolor": "white",
           "lakecolor": "white",
           "landcolor": "#E5ECF6",
           "showlakes": true,
           "showland": true,
           "subunitcolor": "white"
          },
          "hoverlabel": {
           "align": "left"
          },
          "hovermode": "closest",
          "mapbox": {
           "style": "light"
          },
          "paper_bgcolor": "white",
          "plot_bgcolor": "#E5ECF6",
          "polar": {
           "angularaxis": {
            "gridcolor": "white",
            "linecolor": "white",
            "ticks": ""
           },
           "bgcolor": "#E5ECF6",
           "radialaxis": {
            "gridcolor": "white",
            "linecolor": "white",
            "ticks": ""
           }
          },
          "scene": {
           "xaxis": {
            "backgroundcolor": "#E5ECF6",
            "gridcolor": "white",
            "gridwidth": 2,
            "linecolor": "white",
            "showbackground": true,
            "ticks": "",
            "zerolinecolor": "white"
           },
           "yaxis": {
            "backgroundcolor": "#E5ECF6",
            "gridcolor": "white",
            "gridwidth": 2,
            "linecolor": "white",
            "showbackground": true,
            "ticks": "",
            "zerolinecolor": "white"
           },
           "zaxis": {
            "backgroundcolor": "#E5ECF6",
            "gridcolor": "white",
            "gridwidth": 2,
            "linecolor": "white",
            "showbackground": true,
            "ticks": "",
            "zerolinecolor": "white"
           }
          },
          "shapedefaults": {
           "line": {
            "color": "#2a3f5f"
           }
          },
          "ternary": {
           "aaxis": {
            "gridcolor": "white",
            "linecolor": "white",
            "ticks": ""
           },
           "baxis": {
            "gridcolor": "white",
            "linecolor": "white",
            "ticks": ""
           },
           "bgcolor": "#E5ECF6",
           "caxis": {
            "gridcolor": "white",
            "linecolor": "white",
            "ticks": ""
           }
          },
          "title": {
           "x": 0.05
          },
          "xaxis": {
           "automargin": true,
           "gridcolor": "white",
           "linecolor": "white",
           "ticks": "",
           "title": {
            "standoff": 15
           },
           "zerolinecolor": "white",
           "zerolinewidth": 2
          },
          "yaxis": {
           "automargin": true,
           "gridcolor": "white",
           "linecolor": "white",
           "ticks": "",
           "title": {
            "standoff": 15
           },
           "zerolinecolor": "white",
           "zerolinewidth": 2
          }
         }
        },
        "title": {
         "text": "UMAP projection of scenes annotations"
        },
        "xaxis": {
         "title": {
          "text": "DR_1"
         }
        },
        "yaxis": {
         "title": {
          "text": "DR_2"
         }
        }
       }
      }
     },
     "metadata": {},
     "output_type": "display_data"
    }
   ],
   "source": [
    "interactive_plot_2d(\n",
    "    df_curated=curated_df,\n",
    "    df_reduced=df_umap,\n",
    "    x_dim=\"DR_1\",\n",
    "    y_dim=\"DR_2\",\n",
    "    title=\"UMAP projection of scenes annotations\",\n",
    "    out_html=\"scenes_annotations_umap.html\"\n",
    ")"
   ]
  },
  {
   "cell_type": "code",
   "execution_count": 14,
   "metadata": {},
   "outputs": [
    {
     "data": {
      "application/vnd.plotly.v1+json": {
       "config": {
        "plotlyServerURL": "https://plot.ly"
       },
       "data": [
        {
         "hovertemplate": "Scene ID: %{text}<br>DR_1: %{x}<br>DR_2: %{y}<extra></extra>",
         "marker": {
          "color": "rgba(178,0,0,0.8)"
         },
         "mode": "markers",
         "name": "w1l1",
         "text": [
          "w1l1s0",
          "w1l1s1",
          "w1l1s2",
          "w1l1s3",
          "w1l1s4",
          "w1l1s5",
          "w1l1s6",
          "w1l1s7",
          "w1l1s8",
          "w1l1s9",
          "w1l1s10",
          "w1l1s11",
          "w1l1s12",
          "w1l1s13",
          "w1l1s14"
         ],
         "type": "scatter",
         "x": [
          -0.33959559243454435,
          0.38143693566756304,
          -0.35199902564362023,
          0.2778665495992024,
          -0.5457335115667714,
          0.05714988855825637,
          0.24721551784551385,
          0.2472155178455142,
          0.5729500026791937,
          -0.2154774179131131,
          -0.2486170826819091,
          -0.30584351398192205,
          -0.39668784542413815,
          -0.4421631254984114,
          -0.29147159253130056
         ],
         "y": [
          -0.2460995846860754,
          0.603182639915927,
          -0.1246536170814619,
          0.038364586415869074,
          0.4384258276767677,
          0.5426564275695279,
          1.0608285656801886,
          1.060828565680189,
          0.6341070630884389,
          0.4815787105361496,
          -0.27626464262836187,
          -0.1665324884558375,
          -0.2627857568842425,
          1.0032438811768265,
          -0.5042766165278714
         ]
        },
        {
         "hovertemplate": "Scene ID: %{text}<br>DR_1: %{x}<br>DR_2: %{y}<extra></extra>",
         "marker": {
          "color": "rgba(255,0,0,0.8)"
         },
         "mode": "markers",
         "name": "w1l2",
         "text": [
          "w1l2s0",
          "w1l2s1",
          "w1l2s2",
          "w1l2s3",
          "w1l2s4",
          "w1l2s5",
          "w1l2s6",
          "w1l2s7",
          "w1l2s8",
          "w1l2s9",
          "w1l2s10",
          "w1l2s11",
          "w1l2s12"
         ],
         "type": "scatter",
         "x": [
          -0.44216312549841164,
          -0.4257139987558623,
          -0.44216312549841175,
          -0.35610005333139394,
          0.5729500026791936,
          0.046976245681436365,
          -0.6510069558332247,
          -0.3966878454241384,
          -0.31325530443466054,
          0.7783529226034716,
          0.047305201195498914,
          -0.25437288149083537,
          -0.30249688139407915
         ],
         "y": [
          1.003243881176827,
          0.7286776332925197,
          1.0032438811768267,
          -0.19503391469235665,
          0.6341070630884387,
          0.5212494721965641,
          0.20982317029480785,
          -0.2627857568842422,
          -0.17168834801733948,
          0.40992370814056256,
          -0.06846034337511886,
          -0.422311314679769,
          -0.1641342828379731
         ]
        },
        {
         "hovertemplate": "Scene ID: %{text}<br>DR_1: %{x}<br>DR_2: %{y}<extra></extra>",
         "marker": {
          "color": "rgba(255,0,0,0.8)"
         },
         "mode": "markers",
         "name": "w1l3",
         "text": [
          "w1l3s0",
          "w1l3s1",
          "w1l3s2",
          "w1l3s3",
          "w1l3s4",
          "w1l3s5",
          "w1l3s6",
          "w1l3s7",
          "w1l3s8",
          "w1l3s9",
          "w1l3s10"
         ],
         "type": "scatter",
         "x": [
          -0.3395955924345443,
          -0.42948696475997095,
          0.25589429002604386,
          0.15315385780033158,
          -0.6633807848679435,
          -0.5465983525709885,
          -0.5462693970569258,
          -0.4505943833289134,
          -0.43092948556756183,
          -0.419279313691034,
          0.5481197611061971
         ],
         "y": [
          -0.24609958468607548,
          -0.5256754234232254,
          -0.24560621560747475,
          0.43264559587335283,
          -0.32524395822208274,
          -0.13060478303681256,
          -0.7203145986084954,
          -0.24061561473298784,
          -0.5965761940179457,
          -0.3587734580232432,
          -0.537312747250431
         ]
        },
        {
         "hovertemplate": "Scene ID: %{text}<br>DR_1: %{x}<br>DR_2: %{y}<extra></extra>",
         "marker": {
          "color": "rgba(0,0,178,0.8)"
         },
         "mode": "markers",
         "name": "w2l1",
         "text": [
          "w2l1s0",
          "w2l1s1",
          "w2l1s2",
          "w2l1s3",
          "w2l1s4",
          "w2l1s5",
          "w2l1s6",
          "w2l1s7",
          "w2l1s8",
          "w2l1s9",
          "w2l1s10",
          "w2l1s11",
          "w2l1s12",
          "w2l1s13",
          "w2l1s14",
          "w2l1s15",
          "w2l1s16"
         ],
         "type": "scatter",
         "x": [
          -0.3395955924345443,
          -0.4129843665023825,
          -0.44216312549841164,
          -0.545733511566772,
          0.5229736630678282,
          -0.46448523598996383,
          -0.3003936522963839,
          -0.503296634844273,
          0.8596425311552889,
          -0.38651420254731816,
          0.9767539189663061,
          -0.6926870627827612,
          0.9767539189663061,
          0.9767539189663061,
          -0.4280979034936858,
          0.3329080337805702,
          -0.3109731238049151
         ],
         "y": [
          -0.24609958468607548,
          0.38106787055199615,
          1.003243881176827,
          0.43842582767676674,
          0.8923904964552665,
          0.7086913960051701,
          0.22559172891612145,
          -0.43601797669654846,
          0.4276549949988661,
          -0.24137880151127836,
          0.03258435461245319,
          1.075165040067602,
          0.03258435461245319,
          0.03258435461245319,
          0.735714096053876,
          0.37421835834460543,
          -0.3141593943164978
         ]
        },
        {
         "hovertemplate": "Scene ID: %{text}<br>DR_1: %{x}<br>DR_2: %{y}<extra></extra>",
         "marker": {
          "color": "rgba(0,0,255,0.8)"
         },
         "mode": "markers",
         "name": "w2l3",
         "text": [
          "w2l3s0",
          "w2l3s1",
          "w2l3s2",
          "w2l3s3",
          "w2l3s4",
          "w2l3s5",
          "w2l3s6",
          "w2l3s7",
          "w2l3s8",
          "w2l3s9",
          "w2l3s10",
          "w2l3s11",
          "w2l3s12",
          "w2l3s13"
         ],
         "type": "scatter",
         "x": [
          0.19376280764288856,
          0.4999957612029533,
          0.4999957612029533,
          0.4999957612029533,
          0.9767539189663061,
          0.9767539189663061,
          0.9753064812419334,
          0.9767539189663061,
          0.37300567783706123,
          0.9767539189663061,
          0.9767539189663061,
          0.4985532403953627,
          1.0008268547483723,
          -0.25437288149083537
         ],
         "y": [
          -0.042531435028258714,
          -0.279135715408635,
          -0.279135715408635,
          -0.279135715408635,
          0.03258435461245319,
          0.03258435461245319,
          0.519832069550603,
          0.03258435461245319,
          -0.6406768559938874,
          0.03258435461245319,
          0.03258435461245319,
          -0.35003648600335585,
          0.03578653764264478,
          -0.422311314679769
         ]
        },
        {
         "hovertemplate": "Scene ID: %{text}<br>DR_1: %{x}<br>DR_2: %{y}<extra></extra>",
         "marker": {
          "color": "rgba(0,89,0,0.8)"
         },
         "mode": "markers",
         "name": "w3l1",
         "text": [
          "w3l1s0",
          "w3l1s1",
          "w3l1s2",
          "w3l1s3",
          "w3l1s4",
          "w3l1s5",
          "w3l1s6",
          "w3l1s7",
          "w3l1s8",
          "w3l1s9",
          "w3l1s10",
          "w3l1s11",
          "w3l1s12"
         ],
         "type": "scatter",
         "x": [
          -0.3395955924345443,
          -0.4921394651097775,
          -0.04786793523447651,
          -0.7351433494807073,
          -0.38651420254731816,
          -0.4078849936758842,
          -0.7142686767135279,
          0.5440810816367703,
          0.30526319788396683,
          -0.38651420254731816,
          0.500651552576276,
          0.8833480502944464,
          -0.27548030005977764
         ],
         "y": [
          -0.24609958468607548,
          1.2615273145436556,
          0.4650860890076174,
          0.7972274162583504,
          -0.24137880151127836,
          0.6005394756418987,
          1.5790276163681574,
          0.6073306877650289,
          0.4654289303787675,
          -0.24137880151127836,
          0.5978380112836095,
          0.2813751114978614,
          -0.13725150598953154
         ]
        },
        {
         "hovertemplate": "Scene ID: %{text}<br>DR_1: %{x}<br>DR_2: %{y}<extra></extra>",
         "marker": {
          "color": "rgba(0,128,0,0.8)"
         },
         "mode": "markers",
         "name": "w3l2",
         "text": [
          "w3l2s0",
          "w3l2s1",
          "w3l2s2",
          "w3l2s3",
          "w3l2s4",
          "w3l2s5",
          "w3l2s6",
          "w3l2s7",
          "w3l2s8",
          "w3l2s9",
          "w3l2s10",
          "w3l2s11",
          "w3l2s12",
          "w3l2s13",
          "w3l2s14"
         ],
         "type": "scatter",
         "x": [
          0.4628970501624881,
          -0.3459264104545738,
          -0.3459264104545738,
          -0.3236042999630214,
          -0.35199902564362046,
          -0.5695030597826969,
          -0.09929171257021514,
          0.4999957612029533,
          0.4999957612029533,
          -0.34736893126216445,
          0.456566232142459,
          -0.3236042999630214,
          -0.3459264104545738,
          0.456566232142459,
          -0.2978024105513299
         ],
         "y": [
          -0.3611010172567375,
          -0.17362695931939268,
          -0.17362695931939268,
          0.1209255258522645,
          -0.12465361708146232,
          0.6311210574432593,
          1.210617237312595,
          -0.279135715408635,
          -0.279135715408635,
          -0.24452772991411317,
          -0.2886283918900547,
          0.1209255258522645,
          -0.17362695931939268,
          -0.2886283918900547,
          -0.43180399116118867
         ]
        },
        {
         "hovertemplate": "Scene ID: %{text}<br>DR_1: %{x}<br>DR_2: %{y}<extra></extra>",
         "marker": {
          "color": "rgba(0,166,0,0.8)"
         },
         "mode": "markers",
         "name": "w3l3",
         "text": [
          "w3l3s0",
          "w3l3s1",
          "w3l3s2",
          "w3l3s3",
          "w3l3s4",
          "w3l3s5",
          "w3l3s6",
          "w3l3s7",
          "w3l3s8",
          "w3l3s9",
          "w3l3s10"
         ],
         "type": "scatter",
         "x": [
          -0.3395955924345443,
          0.9767539189663061,
          -0.5462693970569258,
          0.8581950934309159,
          0.05747884407231906,
          0.3828843733919358,
          -0.5462693970569258,
          -0.6633807848679435,
          0.9767539189663061,
          -0.3236042999630214,
          -0.5547456394677619
         ],
         "y": [
          -0.24609958468607548,
          0.03258435461245319,
          -0.7203145986084954,
          0.914902709937016,
          -0.04705338800215502,
          0.11593492497777795,
          -0.7203145986084954,
          -0.32524395822208274,
          0.03258435461245319,
          0.1209255258522645,
          -0.8703397100870202
         ]
        },
        {
         "hovertemplate": "Scene ID: %{text}<br>DR_1: %{x}<br>DR_2: %{y}<extra></extra>",
         "marker": {
          "color": "rgba(178,115,0,0.8)"
         },
         "mode": "markers",
         "name": "w4l1",
         "text": [
          "w4l1s0",
          "w4l1s1",
          "w4l1s2",
          "w4l1s3",
          "w4l1s4",
          "w4l1s5",
          "w4l1s6",
          "w4l1s7",
          "w4l1s8",
          "w4l1s9",
          "w4l1s10",
          "w4l1s11"
         ],
         "type": "scatter",
         "x": [
          -0.3395955924345443,
          0.9753064812419334,
          0.4999957612029533,
          0.9767539189663061,
          -0.4210557069294694,
          -0.5246260929978295,
          -0.3854482151689797,
          1.0708155790114888,
          -0.3966878454241383,
          0.37300567783706123,
          0.9556465003973642,
          -0.25437288149083537
         ],
         "y": [
          -0.24609958468607548,
          0.519832069550603,
          -0.279135715408635,
          0.03258435461245319,
          0.7181840724865896,
          0.15336601898652924,
          -0.09818445504827476,
          0.6607673244192891,
          -0.26278575688424216,
          -0.6406768559938874,
          0.31764416330269096,
          -0.422311314679769
         ]
        },
        {
         "hovertemplate": "Scene ID: %{text}<br>DR_1: %{x}<br>DR_2: %{y}<extra></extra>",
         "marker": {
          "color": "rgba(255,165,0,0.8)"
         },
         "mode": "markers",
         "name": "w4l2",
         "text": [
          "w4l2s0",
          "w4l2s1",
          "w4l2s2",
          "w4l2s3",
          "w4l2s4",
          "w4l2s5",
          "w4l2s6",
          "w4l2s7",
          "w4l2s8",
          "w4l2s9",
          "w4l2s10",
          "w4l2s11",
          "w4l2s12",
          "w4l2s13",
          "w4l2s14",
          "w4l2s15",
          "w4l2s16",
          "w4l2s17"
         ],
         "type": "scatter",
         "x": [
          -0.4665856758004361,
          -0.3126705242708993,
          -0.39590275006593934,
          -0.061079981463071205,
          -0.6917138204202131,
          -0.3299139602332384,
          -0.38651420254731816,
          -0.5205341907903762,
          -0.38651420254731816,
          -0.545733511566772,
          -0.30393940220166976,
          -0.3252176536458515,
          -0.6075774267727301,
          -0.36412159218454493,
          -0.31842783498468036,
          -0.04786793523447651,
          -0.25437288149083537,
          -0.38651420254731816
         ],
         "y": [
          -0.6076407252713277,
          -0.1855412382109369,
          0.08465647404743533,
          0.8352649673224074,
          0.8067200927397696,
          -0.3495307218745496,
          -0.24137880151127836,
          1.0159481716099283,
          -0.24137880151127836,
          0.43842582767676674,
          -0.23503505343269354,
          0.2694095117835926,
          0.21931584677622745,
          -0.537826148981235,
          0.7583047537939711,
          0.4650860890076174,
          -0.422311314679769,
          -0.24137880151127836
         ]
        },
        {
         "hovertemplate": "Scene ID: %{text}<br>DR_1: %{x}<br>DR_2: %{y}<extra></extra>",
         "marker": {
          "color": "rgba(255,214,0,0.8)"
         },
         "mode": "markers",
         "name": "w4l3",
         "text": [
          "w4l3s0",
          "w4l3s1",
          "w4l3s2",
          "w4l3s3",
          "w4l3s4",
          "w4l3s5",
          "w4l3s6",
          "w4l3s7",
          "w4l3s8",
          "w4l3s9",
          "w4l3s10"
         ],
         "type": "scatter",
         "x": [
          -0.3395955924345443,
          -0.4505943833289134,
          0.25589429002604386,
          -0.6735544277447635,
          -0.6633807848679435,
          0.4685147756066168,
          -0.5462693970569258,
          -0.5462693970569258,
          -0.5462693970569258,
          -0.5465983525709885,
          -0.5547456394677619
         ],
         "y": [
          -0.24609958468607548,
          -0.24061561473298784,
          -0.24560621560747475,
          -0.3466509135950466,
          -0.32524395822208274,
          -0.49974160112520116,
          -0.7203145986084954,
          -0.7203145986084954,
          -0.7203145986084954,
          -0.13060478303681256,
          -0.8703397100870202
         ]
        },
        {
         "hovertemplate": "Scene ID: %{text}<br>DR_1: %{x}<br>DR_2: %{y}<extra></extra>",
         "marker": {
          "color": "rgba(89,0,89,0.8)"
         },
         "mode": "markers",
         "name": "w5l1",
         "text": [
          "w5l1s0",
          "w5l1s1",
          "w5l1s2",
          "w5l1s3",
          "w5l1s4",
          "w5l1s5",
          "w5l1s6",
          "w5l1s7",
          "w5l1s8",
          "w5l1s9",
          "w5l1s10",
          "w5l1s11",
          "w5l1s12",
          "w5l1s13"
         ],
         "type": "scatter",
         "x": [
          -0.3395955924345443,
          0.456566232142459,
          -0.3459264104545738,
          0.070202524025431,
          0.456566232142459,
          -0.3459264104545738,
          0.8494688882784686,
          0.9333243899058119,
          0.456566232142459,
          -0.3459264104545738,
          0.945472857520544,
          -0.38651420254731816,
          0.47888834263401114,
          -0.25437288149083537
         ],
         "y": [
          -0.24609958468607548,
          -0.2886283918900547,
          -0.17362695931939268,
          0.49859542366305115,
          -0.2886283918900547,
          -0.17362695931939268,
          0.4062480396259022,
          0.023091678131033612,
          -0.2886283918900547,
          -0.17362695931939268,
          0.29623720792972713,
          -0.24137880151127836,
          0.005924093281602624,
          -0.422311314679769
         ]
        },
        {
         "hovertemplate": "Scene ID: %{text}<br>DR_1: %{x}<br>DR_2: %{y}<extra></extra>",
         "marker": {
          "color": "rgba(128,0,128,0.8)"
         },
         "mode": "markers",
         "name": "w5l2",
         "text": [
          "w5l2s0",
          "w5l2s1",
          "w5l2s2",
          "w5l2s3",
          "w5l2s4",
          "w5l2s5",
          "w5l2s6",
          "w5l2s7",
          "w5l2s8",
          "w5l2s9",
          "w5l2s10",
          "w5l2s11",
          "w5l2s12",
          "w5l2s13",
          "w5l2s14"
         ],
         "type": "scatter",
         "x": [
          -0.3395955924345443,
          0.556596003517033,
          0.2595967312620092,
          0.556596003517033,
          0.20975410011441134,
          -0.30249688139407915,
          0.3828843733919358,
          -0.503296634844273,
          0.05714988855825651,
          0.4999957612029533,
          1.020839239400123,
          -0.3973501877903122,
          0.8385351125863466,
          -0.5691532088643034,
          0.5466772402986065
         ],
         "y": [
          -0.24609958468607548,
          -0.3872876357719064,
          0.2671140866788371,
          -0.3872876357719064,
          0.3244936755100814,
          -0.16413428283797307,
          0.11593492497777795,
          -0.43601797669654846,
          0.5426564275695281,
          -0.279135715408635,
          0.9190507577861171,
          0.5719041889855853,
          0.7127148036891039,
          0.6417027405915746,
          -0.6082135178451519
         ]
        },
        {
         "hovertemplate": "Scene ID: %{text}<br>DR_1: %{x}<br>DR_2: %{y}<extra></extra>",
         "marker": {
          "color": "rgba(166,0,166,0.8)"
         },
         "mode": "markers",
         "name": "w5l3",
         "text": [
          "w5l3s0",
          "w5l3s1",
          "w5l3s2",
          "w5l3s3",
          "w5l3s4",
          "w5l3s5",
          "w5l3s6",
          "w5l3s7",
          "w5l3s8",
          "w5l3s9",
          "w5l3s10"
         ],
         "type": "scatter",
         "x": [
          -0.3395955924345443,
          0.37300567783706123,
          0.4985532403953627,
          0.8385351125863466,
          0.12893821485226886,
          0.37300567783706123,
          0.25622324554010634,
          0.37300567783706123,
          0.37300567783706123,
          0.38321332890599835,
          -0.25437288149083537
         ],
         "y": [
          -0.24609958468607548,
          -0.6406768559938874,
          -0.35003648600335585,
          0.7127148036891039,
          -0.4616523461657087,
          -0.6406768559938874,
          -0.8353160311791575,
          -0.6406768559938874,
          -0.6406768559938874,
          -0.4737748905939052,
          -0.422311314679769
         ]
        },
        {
         "hovertemplate": "Scene ID: %{text}<br>DR_1: %{x}<br>DR_2: %{y}<extra></extra>",
         "marker": {
          "color": "rgba(115,29,29,0.8)"
         },
         "mode": "markers",
         "name": "w6l1",
         "text": [
          "w6l1s0",
          "w6l1s1",
          "w6l1s2",
          "w6l1s3",
          "w6l1s4",
          "w6l1s5",
          "w6l1s6",
          "w6l1s7",
          "w6l1s8",
          "w6l1s9",
          "w6l1s10"
         ],
         "type": "scatter",
         "x": [
          -0.3395955924345443,
          0.9556465003973642,
          0.31104709461575064,
          0.9767539189663061,
          1.033354161280386,
          1.031906723556013,
          0.4999957612029533,
          0.36945593766295526,
          1.033354161280386,
          0.9767539189663061,
          1.0248779188695498
         ],
         "y": [
          -0.24609958468607548,
          0.31764416330269096,
          0.13348957896740382,
          0.03258435461245319,
          -0.07556756575081813,
          0.4116801491873316,
          -0.279135715408635,
          -0.5119522983632948,
          -0.07556756575081813,
          0.03258435461245319,
          -0.2255926772293427
         ]
        },
        {
         "hovertemplate": "Scene ID: %{text}<br>DR_1: %{x}<br>DR_2: %{y}<extra></extra>",
         "marker": {
          "color": "rgba(165,42,42,0.8)"
         },
         "mode": "markers",
         "name": "w6l2",
         "text": [
          "w6l2s0",
          "w6l2s1",
          "w6l2s2",
          "w6l2s3",
          "w6l2s4",
          "w6l2s5",
          "w6l2s6",
          "w6l2s7",
          "w6l2s8",
          "w6l2s9",
          "w6l2s10",
          "w6l2s11",
          "w6l2s12",
          "w6l2s13",
          "w6l2s14",
          "w6l2s15",
          "w6l2s16",
          "w6l2s17"
         ],
         "type": "scatter",
         "x": [
          -0.4567069802455619,
          -0.7246888145837473,
          -0.38651420254731816,
          -0.6075774267727301,
          -0.6590012041084684,
          -0.6075774267727301,
          -0.30249688139407915,
          -0.5025596029799969,
          -0.503296634844273,
          -0.6075774267727301,
          -0.5025596029799969,
          0.8596425311552889,
          -0.5025596029799969,
          -0.15327749984240738,
          0.5125535251976082,
          -0.3966878454241383,
          -0.3722775019153944,
          0.5481197611061971
         ],
         "y": [
          0.14897105570033725,
          0.6143864871626403,
          -0.24137880151127836,
          0.21931584677622745,
          0.964846995081205,
          0.21931584677622745,
          -0.16413428283797307,
          0.2968861853381379,
          -0.43601797669654846,
          0.21931584677622745,
          0.2968861853381379,
          0.4276549949988661,
          0.2968861853381379,
          0.2849959960108708,
          -0.07225063275025066,
          -0.26278575688424216,
          -0.21582905189296564,
          -0.537312747250431
         ]
        },
        {
         "hovertemplate": "Scene ID: %{text}<br>DR_1: %{x}<br>DR_2: %{y}<extra></extra>",
         "marker": {
          "color": "rgba(214,54,54,0.8)"
         },
         "mode": "markers",
         "name": "w6l3",
         "text": [
          "w6l3s0",
          "w6l3s1",
          "w6l3s2",
          "w6l3s3",
          "w6l3s4",
          "w6l3s5",
          "w6l3s6",
          "w6l3s7",
          "w6l3s8",
          "w6l3s9"
         ],
         "type": "scatter",
         "x": [
          -0.3395955924345443,
          -0.42948696475997095,
          -0.5462693970569258,
          -0.6633807848679435,
          -0.5477168347812987,
          -0.5462693970569258,
          0.37300567783706123,
          0.25622324554010634,
          -0.5462693970569258,
          0.165785033958438
         ],
         "y": [
          -0.24609958468607548,
          -0.5256754234232254,
          -0.7203145986084954,
          -0.32524395822208274,
          -0.23306688367034573,
          -0.7203145986084954,
          -0.6406768559938874,
          -0.8353160311791575,
          -0.7203145986084954,
          -0.002439324295409537
         ]
        },
        {
         "hovertemplate": "Scene ID: %{text}<br>DR_1: %{x}<br>DR_2: %{y}<extra></extra>",
         "marker": {
          "color": "rgba(178,178,0,0.8)"
         },
         "mode": "markers",
         "name": "w7l1",
         "text": [
          "w7l1s0",
          "w7l1s1",
          "w7l1s2",
          "w7l1s3",
          "w7l1s4",
          "w7l1s5",
          "w7l1s6",
          "w7l1s7",
          "w7l1s8",
          "w7l1s9",
          "w7l1s10",
          "w7l1s11",
          "w7l1s12"
         ],
         "type": "scatter",
         "x": [
          -0.3395955924345443,
          -0.5260735307222024,
          -0.6917138204202131,
          -0.5246260929978295,
          -0.21495566265685973,
          0.5125535251976082,
          -0.5260735307222024,
          -0.38651420254731816,
          -0.5741282372473708,
          -0.5741282372473708,
          0.5955048589725088,
          0.10424140484915867,
          0.5481197611061971
         ],
         "y": [
          -0.24609958468607548,
          0.6406137339246791,
          0.8067200927397696,
          0.15336601898652924,
          1.1184401627608578,
          -0.07225063275025066,
          0.6406137339246791,
          -0.24137880151127836,
          0.19284668474303993,
          0.19284668474303993,
          -0.138200460539949,
          0.4978694235130319,
          -0.537312747250431
         ]
        },
        {
         "hovertemplate": "Scene ID: %{text}<br>DR_1: %{x}<br>DR_2: %{y}<extra></extra>",
         "marker": {
          "color": "rgba(255,255,0,0.8)"
         },
         "mode": "markers",
         "name": "w7l3",
         "text": [
          "w7l3s0",
          "w7l3s1",
          "w7l3s2",
          "w7l3s3",
          "w7l3s4",
          "w7l3s5",
          "w7l3s6",
          "w7l3s7",
          "w7l3s8",
          "w7l3s9",
          "w7l3s10",
          "w7l3s11",
          "w7l3s12",
          "w7l3s13"
         ],
         "type": "scatter",
         "x": [
          0.19376280764288856,
          0.4999957612029533,
          0.4999957612029533,
          0.4999957612029533,
          0.9767539189663061,
          0.9767539189663061,
          0.9753064812419334,
          0.9767539189663061,
          0.37300567783706123,
          0.9767539189663061,
          0.9767539189663061,
          -0.42948696475997095,
          0.19833421215133984,
          -0.25437288149083537
         ],
         "y": [
          -0.042531435028258714,
          -0.279135715408635,
          -0.279135715408635,
          -0.279135715408635,
          0.03258435461245319,
          0.03258435461245319,
          0.519832069550603,
          0.03258435461245319,
          -0.6406768559938874,
          0.03258435461245319,
          0.03258435461245319,
          -0.5256754234232254,
          0.15078797021330673,
          -0.422311314679769
         ]
        },
        {
         "hovertemplate": "Scene ID: %{text}<br>DR_1: %{x}<br>DR_2: %{y}<extra></extra>",
         "marker": {
          "color": "rgba(89,89,89,0.8)"
         },
         "mode": "markers",
         "name": "w8l1",
         "text": [
          "w8l1s0",
          "w8l1s1",
          "w8l1s2",
          "w8l1s3",
          "w8l1s4",
          "w8l1s5",
          "w8l1s6",
          "w8l1s7",
          "w8l1s8",
          "w8l1s9",
          "w8l1s10",
          "w8l1s11",
          "w8l1s12",
          "w8l1s13",
          "w8l1s14",
          "w8l1s15",
          "w8l1s16",
          "w8l1s17",
          "w8l1s18",
          "w8l1s19",
          "w8l1s20",
          "w8l1s21",
          "w8l1s22",
          "w8l1s23",
          "w8l1s24",
          "w8l1s25",
          "w8l1s26"
         ],
         "type": "scatter",
         "x": [
          0.4628970501624881,
          -0.3459264104545738,
          -0.3236042999630214,
          -0.42948696475997095,
          0.456566232142459,
          -0.6090248644971031,
          -0.3854482151689797,
          -0.38651420254731816,
          -0.568055622058324,
          0.456566232142459,
          -0.3459264104545738,
          -0.568055622058324,
          -0.641737480808847,
          -0.4505943833289134,
          -0.3337779428398416,
          -0.4505943833289134,
          0.17426127636927394,
          -0.35668483349515523,
          0.456566232142459,
          -0.36703382902351617,
          0.556596003517033,
          -0.30393940220166976,
          -0.35199902564362046,
          -0.42948696475997095,
          0.456566232142459,
          -0.3854482151689797,
          -0.25581540229842603
         ],
         "y": [
          -0.3611010172567375,
          -0.17362695931939268,
          0.1209255258522645,
          -0.5256754234232254,
          -0.2886283918900547,
          0.7065635617143772,
          -0.09818445504827476,
          -0.24137880151127836,
          0.1438733425051095,
          -0.2886283918900547,
          -0.17362695931939268,
          0.1438733425051095,
          0.5484366593729421,
          -0.24061561473298784,
          0.09951857047930064,
          -0.24061561473298784,
          0.1475857871831151,
          -0.18118102449875925,
          -0.2886283918900547,
          0.11143284937084506,
          -0.3872876357719064,
          -0.23503505343269354,
          -0.12465361708146232,
          -0.5256754234232254,
          -0.2886283918900547,
          -0.09818445504827476,
          -0.4932120852744896
         ]
        },
        {
         "hovertemplate": "Scene ID: %{text}<br>DR_1: %{x}<br>DR_2: %{y}<extra></extra>",
         "marker": {
          "color": "rgba(128,128,128,0.8)"
         },
         "mode": "markers",
         "name": "w8l2",
         "text": [
          "w8l2s0",
          "w8l2s1",
          "w8l2s2",
          "w8l2s3",
          "w8l2s4",
          "w8l2s5",
          "w8l2s6",
          "w8l2s7",
          "w8l2s8",
          "w8l2s9",
          "w8l2s10",
          "w8l2s11",
          "w8l2s12",
          "w8l2s13",
          "w8l2s14",
          "w8l2s15",
          "w8l2s16",
          "w8l2s17"
         ],
         "type": "scatter",
         "x": [
          0.4628970501624881,
          0.5551534827094424,
          0.3828843733919358,
          0.9767539189663061,
          -0.31411304507848997,
          0.4985532403953627,
          0.15315385780033158,
          -0.04786793523447651,
          -0.6931612581445853,
          -0.6917138204202131,
          -0.712821238989155,
          -0.1803214132589183,
          -0.42948696475997095,
          -0.3854482151689797,
          -0.38651420254731816,
          -0.4729164938204658,
          -0.48913326925269224,
          0.4211296777403051
         ],
         "y": [
          -0.3611010172567375,
          -0.45818840636662717,
          0.11593492497777795,
          0.03258435461245319,
          -0.25644200880565726,
          -0.35003648600335585,
          0.43264559587335283,
          0.4650860890076174,
          1.29396780767792,
          0.8067200927397696,
          1.091779901430008,
          0.5705165825538265,
          -0.5256754234232254,
          -0.09818445504827476,
          -0.24137880151127836,
          -0.5351680999046448,
          0.3302739073134953,
          -0.8988538878356833
         ]
        },
        {
         "hovertemplate": "Scene ID: %{text}<br>DR_1: %{x}<br>DR_2: %{y}<extra></extra>",
         "marker": {
          "color": "rgba(166,166,166,0.8)"
         },
         "mode": "markers",
         "name": "w8l3",
         "text": [
          "w8l3s0",
          "w8l3s1",
          "w8l3s2",
          "w8l3s3",
          "w8l3s4",
          "w8l3s5",
          "w8l3s6",
          "w8l3s7",
          "w8l3s8",
          "w8l3s9",
          "w8l3s10",
          "w8l3s11"
         ],
         "type": "scatter",
         "x": [
          0.4628970501624881,
          -0.5246260929978295,
          -0.35199902564362046,
          1.0708155790114888,
          1.0008268547483723,
          -0.5741282372473709,
          0.5940574212481359,
          -0.31325530443466065,
          0.49999576120295325,
          0.49999576120295325,
          -0.5246260929978296,
          -0.25581540229842603
         ],
         "y": [
          -0.3611010172567375,
          0.15336601898652924,
          -0.12465361708146236,
          0.6607673244192891,
          0.03578653764264476,
          0.19284668474303998,
          0.34904725439820083,
          -0.1716883480173396,
          -0.2791357154086351,
          -0.2791357154086351,
          0.15336601898652927,
          -0.4932120852744896
         ]
        }
       ],
       "layout": {
        "hovermode": "closest",
        "legend": {
         "bgcolor": "rgba(0,0,0,0)",
         "x": 1.02,
         "xanchor": "left",
         "y": 1,
         "yanchor": "top"
        },
        "margin": {
         "r": 200
        },
        "template": {
         "data": {
          "bar": [
           {
            "error_x": {
             "color": "#2a3f5f"
            },
            "error_y": {
             "color": "#2a3f5f"
            },
            "marker": {
             "line": {
              "color": "#E5ECF6",
              "width": 0.5
             },
             "pattern": {
              "fillmode": "overlay",
              "size": 10,
              "solidity": 0.2
             }
            },
            "type": "bar"
           }
          ],
          "barpolar": [
           {
            "marker": {
             "line": {
              "color": "#E5ECF6",
              "width": 0.5
             },
             "pattern": {
              "fillmode": "overlay",
              "size": 10,
              "solidity": 0.2
             }
            },
            "type": "barpolar"
           }
          ],
          "carpet": [
           {
            "aaxis": {
             "endlinecolor": "#2a3f5f",
             "gridcolor": "white",
             "linecolor": "white",
             "minorgridcolor": "white",
             "startlinecolor": "#2a3f5f"
            },
            "baxis": {
             "endlinecolor": "#2a3f5f",
             "gridcolor": "white",
             "linecolor": "white",
             "minorgridcolor": "white",
             "startlinecolor": "#2a3f5f"
            },
            "type": "carpet"
           }
          ],
          "choropleth": [
           {
            "colorbar": {
             "outlinewidth": 0,
             "ticks": ""
            },
            "type": "choropleth"
           }
          ],
          "contour": [
           {
            "colorbar": {
             "outlinewidth": 0,
             "ticks": ""
            },
            "colorscale": [
             [
              0,
              "#0d0887"
             ],
             [
              0.1111111111111111,
              "#46039f"
             ],
             [
              0.2222222222222222,
              "#7201a8"
             ],
             [
              0.3333333333333333,
              "#9c179e"
             ],
             [
              0.4444444444444444,
              "#bd3786"
             ],
             [
              0.5555555555555556,
              "#d8576b"
             ],
             [
              0.6666666666666666,
              "#ed7953"
             ],
             [
              0.7777777777777778,
              "#fb9f3a"
             ],
             [
              0.8888888888888888,
              "#fdca26"
             ],
             [
              1,
              "#f0f921"
             ]
            ],
            "type": "contour"
           }
          ],
          "contourcarpet": [
           {
            "colorbar": {
             "outlinewidth": 0,
             "ticks": ""
            },
            "type": "contourcarpet"
           }
          ],
          "heatmap": [
           {
            "colorbar": {
             "outlinewidth": 0,
             "ticks": ""
            },
            "colorscale": [
             [
              0,
              "#0d0887"
             ],
             [
              0.1111111111111111,
              "#46039f"
             ],
             [
              0.2222222222222222,
              "#7201a8"
             ],
             [
              0.3333333333333333,
              "#9c179e"
             ],
             [
              0.4444444444444444,
              "#bd3786"
             ],
             [
              0.5555555555555556,
              "#d8576b"
             ],
             [
              0.6666666666666666,
              "#ed7953"
             ],
             [
              0.7777777777777778,
              "#fb9f3a"
             ],
             [
              0.8888888888888888,
              "#fdca26"
             ],
             [
              1,
              "#f0f921"
             ]
            ],
            "type": "heatmap"
           }
          ],
          "heatmapgl": [
           {
            "colorbar": {
             "outlinewidth": 0,
             "ticks": ""
            },
            "colorscale": [
             [
              0,
              "#0d0887"
             ],
             [
              0.1111111111111111,
              "#46039f"
             ],
             [
              0.2222222222222222,
              "#7201a8"
             ],
             [
              0.3333333333333333,
              "#9c179e"
             ],
             [
              0.4444444444444444,
              "#bd3786"
             ],
             [
              0.5555555555555556,
              "#d8576b"
             ],
             [
              0.6666666666666666,
              "#ed7953"
             ],
             [
              0.7777777777777778,
              "#fb9f3a"
             ],
             [
              0.8888888888888888,
              "#fdca26"
             ],
             [
              1,
              "#f0f921"
             ]
            ],
            "type": "heatmapgl"
           }
          ],
          "histogram": [
           {
            "marker": {
             "pattern": {
              "fillmode": "overlay",
              "size": 10,
              "solidity": 0.2
             }
            },
            "type": "histogram"
           }
          ],
          "histogram2d": [
           {
            "colorbar": {
             "outlinewidth": 0,
             "ticks": ""
            },
            "colorscale": [
             [
              0,
              "#0d0887"
             ],
             [
              0.1111111111111111,
              "#46039f"
             ],
             [
              0.2222222222222222,
              "#7201a8"
             ],
             [
              0.3333333333333333,
              "#9c179e"
             ],
             [
              0.4444444444444444,
              "#bd3786"
             ],
             [
              0.5555555555555556,
              "#d8576b"
             ],
             [
              0.6666666666666666,
              "#ed7953"
             ],
             [
              0.7777777777777778,
              "#fb9f3a"
             ],
             [
              0.8888888888888888,
              "#fdca26"
             ],
             [
              1,
              "#f0f921"
             ]
            ],
            "type": "histogram2d"
           }
          ],
          "histogram2dcontour": [
           {
            "colorbar": {
             "outlinewidth": 0,
             "ticks": ""
            },
            "colorscale": [
             [
              0,
              "#0d0887"
             ],
             [
              0.1111111111111111,
              "#46039f"
             ],
             [
              0.2222222222222222,
              "#7201a8"
             ],
             [
              0.3333333333333333,
              "#9c179e"
             ],
             [
              0.4444444444444444,
              "#bd3786"
             ],
             [
              0.5555555555555556,
              "#d8576b"
             ],
             [
              0.6666666666666666,
              "#ed7953"
             ],
             [
              0.7777777777777778,
              "#fb9f3a"
             ],
             [
              0.8888888888888888,
              "#fdca26"
             ],
             [
              1,
              "#f0f921"
             ]
            ],
            "type": "histogram2dcontour"
           }
          ],
          "mesh3d": [
           {
            "colorbar": {
             "outlinewidth": 0,
             "ticks": ""
            },
            "type": "mesh3d"
           }
          ],
          "parcoords": [
           {
            "line": {
             "colorbar": {
              "outlinewidth": 0,
              "ticks": ""
             }
            },
            "type": "parcoords"
           }
          ],
          "pie": [
           {
            "automargin": true,
            "type": "pie"
           }
          ],
          "scatter": [
           {
            "fillpattern": {
             "fillmode": "overlay",
             "size": 10,
             "solidity": 0.2
            },
            "type": "scatter"
           }
          ],
          "scatter3d": [
           {
            "line": {
             "colorbar": {
              "outlinewidth": 0,
              "ticks": ""
             }
            },
            "marker": {
             "colorbar": {
              "outlinewidth": 0,
              "ticks": ""
             }
            },
            "type": "scatter3d"
           }
          ],
          "scattercarpet": [
           {
            "marker": {
             "colorbar": {
              "outlinewidth": 0,
              "ticks": ""
             }
            },
            "type": "scattercarpet"
           }
          ],
          "scattergeo": [
           {
            "marker": {
             "colorbar": {
              "outlinewidth": 0,
              "ticks": ""
             }
            },
            "type": "scattergeo"
           }
          ],
          "scattergl": [
           {
            "marker": {
             "colorbar": {
              "outlinewidth": 0,
              "ticks": ""
             }
            },
            "type": "scattergl"
           }
          ],
          "scattermapbox": [
           {
            "marker": {
             "colorbar": {
              "outlinewidth": 0,
              "ticks": ""
             }
            },
            "type": "scattermapbox"
           }
          ],
          "scatterpolar": [
           {
            "marker": {
             "colorbar": {
              "outlinewidth": 0,
              "ticks": ""
             }
            },
            "type": "scatterpolar"
           }
          ],
          "scatterpolargl": [
           {
            "marker": {
             "colorbar": {
              "outlinewidth": 0,
              "ticks": ""
             }
            },
            "type": "scatterpolargl"
           }
          ],
          "scatterternary": [
           {
            "marker": {
             "colorbar": {
              "outlinewidth": 0,
              "ticks": ""
             }
            },
            "type": "scatterternary"
           }
          ],
          "surface": [
           {
            "colorbar": {
             "outlinewidth": 0,
             "ticks": ""
            },
            "colorscale": [
             [
              0,
              "#0d0887"
             ],
             [
              0.1111111111111111,
              "#46039f"
             ],
             [
              0.2222222222222222,
              "#7201a8"
             ],
             [
              0.3333333333333333,
              "#9c179e"
             ],
             [
              0.4444444444444444,
              "#bd3786"
             ],
             [
              0.5555555555555556,
              "#d8576b"
             ],
             [
              0.6666666666666666,
              "#ed7953"
             ],
             [
              0.7777777777777778,
              "#fb9f3a"
             ],
             [
              0.8888888888888888,
              "#fdca26"
             ],
             [
              1,
              "#f0f921"
             ]
            ],
            "type": "surface"
           }
          ],
          "table": [
           {
            "cells": {
             "fill": {
              "color": "#EBF0F8"
             },
             "line": {
              "color": "white"
             }
            },
            "header": {
             "fill": {
              "color": "#C8D4E3"
             },
             "line": {
              "color": "white"
             }
            },
            "type": "table"
           }
          ]
         },
         "layout": {
          "annotationdefaults": {
           "arrowcolor": "#2a3f5f",
           "arrowhead": 0,
           "arrowwidth": 1
          },
          "autotypenumbers": "strict",
          "coloraxis": {
           "colorbar": {
            "outlinewidth": 0,
            "ticks": ""
           }
          },
          "colorscale": {
           "diverging": [
            [
             0,
             "#8e0152"
            ],
            [
             0.1,
             "#c51b7d"
            ],
            [
             0.2,
             "#de77ae"
            ],
            [
             0.3,
             "#f1b6da"
            ],
            [
             0.4,
             "#fde0ef"
            ],
            [
             0.5,
             "#f7f7f7"
            ],
            [
             0.6,
             "#e6f5d0"
            ],
            [
             0.7,
             "#b8e186"
            ],
            [
             0.8,
             "#7fbc41"
            ],
            [
             0.9,
             "#4d9221"
            ],
            [
             1,
             "#276419"
            ]
           ],
           "sequential": [
            [
             0,
             "#0d0887"
            ],
            [
             0.1111111111111111,
             "#46039f"
            ],
            [
             0.2222222222222222,
             "#7201a8"
            ],
            [
             0.3333333333333333,
             "#9c179e"
            ],
            [
             0.4444444444444444,
             "#bd3786"
            ],
            [
             0.5555555555555556,
             "#d8576b"
            ],
            [
             0.6666666666666666,
             "#ed7953"
            ],
            [
             0.7777777777777778,
             "#fb9f3a"
            ],
            [
             0.8888888888888888,
             "#fdca26"
            ],
            [
             1,
             "#f0f921"
            ]
           ],
           "sequentialminus": [
            [
             0,
             "#0d0887"
            ],
            [
             0.1111111111111111,
             "#46039f"
            ],
            [
             0.2222222222222222,
             "#7201a8"
            ],
            [
             0.3333333333333333,
             "#9c179e"
            ],
            [
             0.4444444444444444,
             "#bd3786"
            ],
            [
             0.5555555555555556,
             "#d8576b"
            ],
            [
             0.6666666666666666,
             "#ed7953"
            ],
            [
             0.7777777777777778,
             "#fb9f3a"
            ],
            [
             0.8888888888888888,
             "#fdca26"
            ],
            [
             1,
             "#f0f921"
            ]
           ]
          },
          "colorway": [
           "#636efa",
           "#EF553B",
           "#00cc96",
           "#ab63fa",
           "#FFA15A",
           "#19d3f3",
           "#FF6692",
           "#B6E880",
           "#FF97FF",
           "#FECB52"
          ],
          "font": {
           "color": "#2a3f5f"
          },
          "geo": {
           "bgcolor": "white",
           "lakecolor": "white",
           "landcolor": "#E5ECF6",
           "showlakes": true,
           "showland": true,
           "subunitcolor": "white"
          },
          "hoverlabel": {
           "align": "left"
          },
          "hovermode": "closest",
          "mapbox": {
           "style": "light"
          },
          "paper_bgcolor": "white",
          "plot_bgcolor": "#E5ECF6",
          "polar": {
           "angularaxis": {
            "gridcolor": "white",
            "linecolor": "white",
            "ticks": ""
           },
           "bgcolor": "#E5ECF6",
           "radialaxis": {
            "gridcolor": "white",
            "linecolor": "white",
            "ticks": ""
           }
          },
          "scene": {
           "xaxis": {
            "backgroundcolor": "#E5ECF6",
            "gridcolor": "white",
            "gridwidth": 2,
            "linecolor": "white",
            "showbackground": true,
            "ticks": "",
            "zerolinecolor": "white"
           },
           "yaxis": {
            "backgroundcolor": "#E5ECF6",
            "gridcolor": "white",
            "gridwidth": 2,
            "linecolor": "white",
            "showbackground": true,
            "ticks": "",
            "zerolinecolor": "white"
           },
           "zaxis": {
            "backgroundcolor": "#E5ECF6",
            "gridcolor": "white",
            "gridwidth": 2,
            "linecolor": "white",
            "showbackground": true,
            "ticks": "",
            "zerolinecolor": "white"
           }
          },
          "shapedefaults": {
           "line": {
            "color": "#2a3f5f"
           }
          },
          "ternary": {
           "aaxis": {
            "gridcolor": "white",
            "linecolor": "white",
            "ticks": ""
           },
           "baxis": {
            "gridcolor": "white",
            "linecolor": "white",
            "ticks": ""
           },
           "bgcolor": "#E5ECF6",
           "caxis": {
            "gridcolor": "white",
            "linecolor": "white",
            "ticks": ""
           }
          },
          "title": {
           "x": 0.05
          },
          "xaxis": {
           "automargin": true,
           "gridcolor": "white",
           "linecolor": "white",
           "ticks": "",
           "title": {
            "standoff": 15
           },
           "zerolinecolor": "white",
           "zerolinewidth": 2
          },
          "yaxis": {
           "automargin": true,
           "gridcolor": "white",
           "linecolor": "white",
           "ticks": "",
           "title": {
            "standoff": 15
           },
           "zerolinecolor": "white",
           "zerolinewidth": 2
          }
         }
        },
        "title": {
         "text": "PCA projection of scenes annotations"
        },
        "xaxis": {
         "title": {
          "text": "DR_1"
         }
        },
        "yaxis": {
         "title": {
          "text": "DR_2"
         }
        }
       }
      }
     },
     "metadata": {},
     "output_type": "display_data"
    }
   ],
   "source": [
    "interactive_plot_2d(\n",
    "    df_curated=curated_df,\n",
    "    df_reduced=df_pca,\n",
    "    x_dim=\"DR_1\",\n",
    "    y_dim=\"DR_2\",\n",
    "    title=\"PCA projection of scenes annotations\",\n",
    "    out_html=\"scenes_annotations_pca.html\"\n",
    ")"
   ]
  },
  {
   "cell_type": "code",
   "execution_count": 10,
   "metadata": {},
   "outputs": [
    {
     "data": {
      "text/plain": [
       "Index(['DR_1', 'DR_2'], dtype='object')"
      ]
     },
     "execution_count": 10,
     "metadata": {},
     "output_type": "execute_result"
    }
   ],
   "source": [
    "df_pca.columns"
   ]
  },
  {
   "cell_type": "code",
   "execution_count": null,
   "metadata": {},
   "outputs": [],
   "source": []
  }
 ],
 "metadata": {
  "kernelspec": {
   "display_name": "mario_env",
   "language": "python",
   "name": "python3"
  },
  "language_info": {
   "codemirror_mode": {
    "name": "ipython",
    "version": 3
   },
   "file_extension": ".py",
   "mimetype": "text/x-python",
   "name": "python",
   "nbconvert_exporter": "python",
   "pygments_lexer": "ipython3",
   "version": "3.10.0"
  }
 },
 "nbformat": 4,
 "nbformat_minor": 2
}
